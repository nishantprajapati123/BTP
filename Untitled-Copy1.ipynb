{
 "cells": [
  {
   "cell_type": "code",
   "execution_count": 1,
   "metadata": {
    "collapsed": false
   },
   "outputs": [
    {
     "data": {
      "text/html": [
       "<div>\n",
       "<table border=\"1\" class=\"dataframe\">\n",
       "  <thead>\n",
       "    <tr style=\"text-align: right;\">\n",
       "      <th></th>\n",
       "      <th>duration</th>\n",
       "      <th>protocol_type</th>\n",
       "      <th>service</th>\n",
       "      <th>flag</th>\n",
       "      <th>src_bytes</th>\n",
       "      <th>dst_bytes</th>\n",
       "      <th>land</th>\n",
       "      <th>wrong_fragment</th>\n",
       "      <th>urgent</th>\n",
       "      <th>hot</th>\n",
       "      <th>...</th>\n",
       "      <th>dst_host_same_srv_rate</th>\n",
       "      <th>dst_host_diff_srv_rate</th>\n",
       "      <th>dst_host_same_src_port_rate</th>\n",
       "      <th>dst_host_srv_diff_host_rate</th>\n",
       "      <th>dst_host_serror_rate</th>\n",
       "      <th>dst_host_srv_serror_rate</th>\n",
       "      <th>dst_host_rerror_rate</th>\n",
       "      <th>dst_host_srv_rerror_rate</th>\n",
       "      <th>unknown1</th>\n",
       "      <th>unknown2</th>\n",
       "    </tr>\n",
       "  </thead>\n",
       "  <tbody>\n",
       "    <tr>\n",
       "      <th>0</th>\n",
       "      <td>0</td>\n",
       "      <td>tcp</td>\n",
       "      <td>ftp_data</td>\n",
       "      <td>SF</td>\n",
       "      <td>491</td>\n",
       "      <td>0</td>\n",
       "      <td>0</td>\n",
       "      <td>0</td>\n",
       "      <td>0</td>\n",
       "      <td>0</td>\n",
       "      <td>...</td>\n",
       "      <td>0.17</td>\n",
       "      <td>0.03</td>\n",
       "      <td>0.17</td>\n",
       "      <td>0.00</td>\n",
       "      <td>0.00</td>\n",
       "      <td>0.00</td>\n",
       "      <td>0.05</td>\n",
       "      <td>0.00</td>\n",
       "      <td>normal</td>\n",
       "      <td>20</td>\n",
       "    </tr>\n",
       "    <tr>\n",
       "      <th>1</th>\n",
       "      <td>0</td>\n",
       "      <td>udp</td>\n",
       "      <td>other</td>\n",
       "      <td>SF</td>\n",
       "      <td>146</td>\n",
       "      <td>0</td>\n",
       "      <td>0</td>\n",
       "      <td>0</td>\n",
       "      <td>0</td>\n",
       "      <td>0</td>\n",
       "      <td>...</td>\n",
       "      <td>0.00</td>\n",
       "      <td>0.60</td>\n",
       "      <td>0.88</td>\n",
       "      <td>0.00</td>\n",
       "      <td>0.00</td>\n",
       "      <td>0.00</td>\n",
       "      <td>0.00</td>\n",
       "      <td>0.00</td>\n",
       "      <td>normal</td>\n",
       "      <td>15</td>\n",
       "    </tr>\n",
       "    <tr>\n",
       "      <th>2</th>\n",
       "      <td>0</td>\n",
       "      <td>tcp</td>\n",
       "      <td>private</td>\n",
       "      <td>S0</td>\n",
       "      <td>0</td>\n",
       "      <td>0</td>\n",
       "      <td>0</td>\n",
       "      <td>0</td>\n",
       "      <td>0</td>\n",
       "      <td>0</td>\n",
       "      <td>...</td>\n",
       "      <td>0.10</td>\n",
       "      <td>0.05</td>\n",
       "      <td>0.00</td>\n",
       "      <td>0.00</td>\n",
       "      <td>1.00</td>\n",
       "      <td>1.00</td>\n",
       "      <td>0.00</td>\n",
       "      <td>0.00</td>\n",
       "      <td>neptune</td>\n",
       "      <td>19</td>\n",
       "    </tr>\n",
       "    <tr>\n",
       "      <th>3</th>\n",
       "      <td>0</td>\n",
       "      <td>tcp</td>\n",
       "      <td>http</td>\n",
       "      <td>SF</td>\n",
       "      <td>232</td>\n",
       "      <td>8153</td>\n",
       "      <td>0</td>\n",
       "      <td>0</td>\n",
       "      <td>0</td>\n",
       "      <td>0</td>\n",
       "      <td>...</td>\n",
       "      <td>1.00</td>\n",
       "      <td>0.00</td>\n",
       "      <td>0.03</td>\n",
       "      <td>0.04</td>\n",
       "      <td>0.03</td>\n",
       "      <td>0.01</td>\n",
       "      <td>0.00</td>\n",
       "      <td>0.01</td>\n",
       "      <td>normal</td>\n",
       "      <td>21</td>\n",
       "    </tr>\n",
       "    <tr>\n",
       "      <th>4</th>\n",
       "      <td>0</td>\n",
       "      <td>tcp</td>\n",
       "      <td>http</td>\n",
       "      <td>SF</td>\n",
       "      <td>199</td>\n",
       "      <td>420</td>\n",
       "      <td>0</td>\n",
       "      <td>0</td>\n",
       "      <td>0</td>\n",
       "      <td>0</td>\n",
       "      <td>...</td>\n",
       "      <td>1.00</td>\n",
       "      <td>0.00</td>\n",
       "      <td>0.00</td>\n",
       "      <td>0.00</td>\n",
       "      <td>0.00</td>\n",
       "      <td>0.00</td>\n",
       "      <td>0.00</td>\n",
       "      <td>0.00</td>\n",
       "      <td>normal</td>\n",
       "      <td>21</td>\n",
       "    </tr>\n",
       "  </tbody>\n",
       "</table>\n",
       "<p>5 rows × 43 columns</p>\n",
       "</div>"
      ],
      "text/plain": [
       "   duration protocol_type   service flag  src_bytes  dst_bytes  land  \\\n",
       "0         0           tcp  ftp_data   SF        491          0     0   \n",
       "1         0           udp     other   SF        146          0     0   \n",
       "2         0           tcp   private   S0          0          0     0   \n",
       "3         0           tcp      http   SF        232       8153     0   \n",
       "4         0           tcp      http   SF        199        420     0   \n",
       "\n",
       "   wrong_fragment  urgent  hot    ...     dst_host_same_srv_rate  \\\n",
       "0               0       0    0    ...                       0.17   \n",
       "1               0       0    0    ...                       0.00   \n",
       "2               0       0    0    ...                       0.10   \n",
       "3               0       0    0    ...                       1.00   \n",
       "4               0       0    0    ...                       1.00   \n",
       "\n",
       "   dst_host_diff_srv_rate  dst_host_same_src_port_rate  \\\n",
       "0                    0.03                         0.17   \n",
       "1                    0.60                         0.88   \n",
       "2                    0.05                         0.00   \n",
       "3                    0.00                         0.03   \n",
       "4                    0.00                         0.00   \n",
       "\n",
       "   dst_host_srv_diff_host_rate  dst_host_serror_rate  \\\n",
       "0                         0.00                  0.00   \n",
       "1                         0.00                  0.00   \n",
       "2                         0.00                  1.00   \n",
       "3                         0.04                  0.03   \n",
       "4                         0.00                  0.00   \n",
       "\n",
       "   dst_host_srv_serror_rate  dst_host_rerror_rate  dst_host_srv_rerror_rate  \\\n",
       "0                      0.00                  0.05                      0.00   \n",
       "1                      0.00                  0.00                      0.00   \n",
       "2                      1.00                  0.00                      0.00   \n",
       "3                      0.01                  0.00                      0.01   \n",
       "4                      0.00                  0.00                      0.00   \n",
       "\n",
       "   unknown1  unknown2  \n",
       "0    normal        20  \n",
       "1    normal        15  \n",
       "2   neptune        19  \n",
       "3    normal        21  \n",
       "4    normal        21  \n",
       "\n",
       "[5 rows x 43 columns]"
      ]
     },
     "execution_count": 1,
     "metadata": {},
     "output_type": "execute_result"
    }
   ],
   "source": [
    "import pandas as pd\n",
    "df1 = pd.DataFrame()\n",
    "df1 = pd.read_csv(\"Field Names.csv\",header = None)\n",
    "#print(df1)\n",
    "df = pd.DataFrame()\n",
    "df = pd.read_csv(\"20_Percent_Training_Set.csv\", names = list(df1[0])+['unknown1','unknown2'])\n",
    "df.head()"
   ]
  },
  {
   "cell_type": "code",
   "execution_count": null,
   "metadata": {
    "collapsed": true
   },
   "outputs": [],
   "source": []
  },
  {
   "cell_type": "code",
   "execution_count": 8,
   "metadata": {
    "collapsed": true
   },
   "outputs": [],
   "source": [
    "df.to_csv('train_proper_csv.csv', index = False)"
   ]
  },
  {
   "cell_type": "code",
   "execution_count": 4,
   "metadata": {
    "collapsed": false
   },
   "outputs": [],
   "source": [
    "import pandas as pd\n",
    "df1 = pd.DataFrame()\n",
    "df1 = pd.read_csv(\"Field Names.csv\",header = None)\n",
    "\n",
    "df = pd.DataFrame()\n",
    "df = pd.read_csv(\"20_Percent_Training_Set.csv\",names = list(df1[0])+['unknown1','unknown2'])\n",
    "\n",
    "df2 = pd.DataFrame()\n",
    "df2 = pd.read_csv(\"Attack Types.csv\",names = ['attack','type']);\n"
   ]
  },
  {
   "cell_type": "code",
   "execution_count": 5,
   "metadata": {
    "collapsed": false
   },
   "outputs": [
    {
     "name": "stdout",
     "output_type": "stream",
     "text": [
      "{'satan': 'probe', 'nmap': 'probe', 'imap': 'r2l', 'loadmodule': 'u2r', 'unknown': 'unknown', 'warezclient': 'r2l', 'warezmaster': 'r2l', 'neptune': 'dos', 'rootkit': 'u2r', 'perl': 'u2r', 'smurf': 'dos', 'spy': 'r2l', 'buffer_overflow': 'u2r', 'teardrop': 'dos', 'ftp_write': 'r2l', 'multihop': 'r2l', 'phf': 'r2l', 'ipsweep': 'probe', 'pod': 'dos', 'portsweep': 'probe', 'back': 'dos', 'guess_passwd': 'r2l', 'normal': 'normal', 'land': 'dos'}\n"
     ]
    }
   ],
   "source": [
    "dic1 = dict(zip(df2['attack'],df2['type']))\n",
    "print(dic1)"
   ]
  },
  {
   "cell_type": "code",
   "execution_count": 6,
   "metadata": {
    "collapsed": true
   },
   "outputs": [],
   "source": [
    "df['unknown1'] = df['unknown1'].apply(lambda x:dic1[x])"
   ]
  },
  {
   "cell_type": "code",
   "execution_count": 7,
   "metadata": {
    "collapsed": true
   },
   "outputs": [],
   "source": [
    "df.to_csv('train_proper_20_csv_attack_types.csv', index = False)"
   ]
  },
  {
   "cell_type": "code",
   "execution_count": 8,
   "metadata": {
    "collapsed": true
   },
   "outputs": [],
   "source": [
    "import pickle\n",
    "\n",
    "random_forest_clf = pickle.load(open('random_forest_test.sav', 'rb'))\n",
    "AdaBoost_clf = pickle.load(open('AdaBoost_test.sav', 'rb'))\n",
    "svc_clf = pickle.load(open('svc_test.sav', 'rb'))"
   ]
  },
  {
   "cell_type": "code",
   "execution_count": null,
   "metadata": {
    "collapsed": false
   },
   "outputs": [],
   "source": [
    "def bool_attack(x):\n",
    "    if(x != \"normal\"):\n",
    "        return \"attack\"\n",
    "    else:\n",
    "        return \"normal\""
   ]
  },
  {
   "cell_type": "code",
   "execution_count": null,
   "metadata": {
    "collapsed": true
   },
   "outputs": [],
   "source": [
    "from sklearn.feature_selection import SelectFpr\n",
    "from sklearn.feature_selection import chi2\n",
    "from sklearn.preprocessing import Normalizer\n",
    "\n",
    "df = df.rename(columns=df.iloc[0])\n",
    "df = df.drop(df.index[0])\n",
    "df = df.drop('unknown2',axis=1)\n",
    "\n",
    "df_tot_1 = df.drop('unknown1',axis=1)\n",
    "df_output = df['unknown1'].apply(bool_attack)\n",
    "df_tot_dummies = pd.get_dummies(df_tot_1,columns = [\"protocol_type\",\"service\",\"flag\"])\n",
    "x_normalise = Normalizer().fit(df_tot_dummies)\n",
    "df_tot_dummies = x_normalise.transform(df_tot_dummies)\n",
    "x_new = SelectFpr(chi2, alpha=0.05).fit_transform(df_tot_dummies, df_output)"
   ]
  },
  {
   "cell_type": "code",
   "execution_count": null,
   "metadata": {
    "collapsed": true
   },
   "outputs": [],
   "source": []
  },
  {
   "cell_type": "code",
   "execution_count": null,
   "metadata": {
    "collapsed": true
   },
   "outputs": [],
   "source": []
  },
  {
   "cell_type": "code",
   "execution_count": null,
   "metadata": {
    "collapsed": true
   },
   "outputs": [],
   "source": []
  },
  {
   "cell_type": "code",
   "execution_count": null,
   "metadata": {
    "collapsed": true
   },
   "outputs": [],
   "source": []
  },
  {
   "cell_type": "code",
   "execution_count": null,
   "metadata": {
    "collapsed": true
   },
   "outputs": [],
   "source": []
  },
  {
   "cell_type": "code",
   "execution_count": null,
   "metadata": {
    "collapsed": true
   },
   "outputs": [],
   "source": []
  },
  {
   "cell_type": "code",
   "execution_count": 17,
   "metadata": {
    "collapsed": true
   },
   "outputs": [],
   "source": [
    "def apply_f(x):\n",
    "    try:\n",
    "        x = dic1[x]\n",
    "    except:\n",
    "        x = dic1['unknown']\n",
    "        \n",
    "    return x\n"
   ]
  },
  {
   "cell_type": "code",
   "execution_count": 19,
   "metadata": {
    "collapsed": true
   },
   "outputs": [],
   "source": [
    "df_test = pd.DataFrame()\n",
    "df_test = pd.read_csv(\"KDDTest+.csv\",names = list(df1[0])+['unknown1','unknown2'])\n",
    "df_test['unknown1'] = df_test['unknown1'].apply(apply_f)"
   ]
  },
  {
   "cell_type": "code",
   "execution_count": 20,
   "metadata": {
    "collapsed": false
   },
   "outputs": [
    {
     "data": {
      "text/plain": [
       "{'dos', 'normal', 'probe', 'r2l', 'u2r', 'unknown'}"
      ]
     },
     "execution_count": 20,
     "metadata": {},
     "output_type": "execute_result"
    }
   ],
   "source": [
    "set(df_test['unknown1'])"
   ]
  },
  {
   "cell_type": "code",
   "execution_count": 21,
   "metadata": {
    "collapsed": true
   },
   "outputs": [],
   "source": [
    "df_test.to_csv('test_proper_csv_attack_types.csv', index = False)"
   ]
  },
  {
   "cell_type": "code",
   "execution_count": 24,
   "metadata": {
    "collapsed": true
   },
   "outputs": [],
   "source": [
    "from sklearn.ensemble import RandomForestClassifier"
   ]
  },
  {
   "cell_type": "code",
   "execution_count": 27,
   "metadata": {
    "collapsed": true
   },
   "outputs": [],
   "source": [
    "df_tr = df.drop('unknown1',axis = 1)"
   ]
  },
  {
   "cell_type": "code",
   "execution_count": 29,
   "metadata": {
    "collapsed": false
   },
   "outputs": [
    {
     "ename": "ValueError",
     "evalue": "could not convert string to float: 'SF'",
     "output_type": "error",
     "traceback": [
      "\u001b[0;31m---------------------------------------------------------------------------\u001b[0m",
      "\u001b[0;31mValueError\u001b[0m                                Traceback (most recent call last)",
      "\u001b[0;32m<ipython-input-29-8a12379be3dd>\u001b[0m in \u001b[0;36m<module>\u001b[0;34m()\u001b[0m\n\u001b[1;32m      1\u001b[0m \u001b[0mclf\u001b[0m \u001b[1;33m=\u001b[0m \u001b[0mRandomForestClassifier\u001b[0m\u001b[1;33m(\u001b[0m\u001b[0mn_estimators\u001b[0m\u001b[1;33m=\u001b[0m\u001b[1;36m10\u001b[0m\u001b[1;33m)\u001b[0m\u001b[1;33m\u001b[0m\u001b[0m\n\u001b[0;32m----> 2\u001b[0;31m \u001b[0mclf\u001b[0m\u001b[1;33m.\u001b[0m\u001b[0mfit\u001b[0m\u001b[1;33m(\u001b[0m\u001b[0mdf_tr\u001b[0m\u001b[1;33m,\u001b[0m\u001b[0mdf\u001b[0m\u001b[1;33m[\u001b[0m\u001b[1;34m'unknown1'\u001b[0m\u001b[1;33m]\u001b[0m\u001b[1;33m)\u001b[0m\u001b[1;33m\u001b[0m\u001b[0m\n\u001b[0m",
      "\u001b[0;32mC:\\Users\\Rupesh\\Anaconda3\\lib\\site-packages\\sklearn\\ensemble\\forest.py\u001b[0m in \u001b[0;36mfit\u001b[0;34m(self, X, y, sample_weight)\u001b[0m\n\u001b[1;32m    210\u001b[0m         \"\"\"\n\u001b[1;32m    211\u001b[0m         \u001b[1;31m# Validate or convert input data\u001b[0m\u001b[1;33m\u001b[0m\u001b[1;33m\u001b[0m\u001b[0m\n\u001b[0;32m--> 212\u001b[0;31m         \u001b[0mX\u001b[0m \u001b[1;33m=\u001b[0m \u001b[0mcheck_array\u001b[0m\u001b[1;33m(\u001b[0m\u001b[0mX\u001b[0m\u001b[1;33m,\u001b[0m \u001b[0mdtype\u001b[0m\u001b[1;33m=\u001b[0m\u001b[0mDTYPE\u001b[0m\u001b[1;33m,\u001b[0m \u001b[0maccept_sparse\u001b[0m\u001b[1;33m=\u001b[0m\u001b[1;34m\"csc\"\u001b[0m\u001b[1;33m)\u001b[0m\u001b[1;33m\u001b[0m\u001b[0m\n\u001b[0m\u001b[1;32m    213\u001b[0m         \u001b[1;32mif\u001b[0m \u001b[0missparse\u001b[0m\u001b[1;33m(\u001b[0m\u001b[0mX\u001b[0m\u001b[1;33m)\u001b[0m\u001b[1;33m:\u001b[0m\u001b[1;33m\u001b[0m\u001b[0m\n\u001b[1;32m    214\u001b[0m             \u001b[1;31m# Pre-sort indices to avoid that each individual tree of the\u001b[0m\u001b[1;33m\u001b[0m\u001b[1;33m\u001b[0m\u001b[0m\n",
      "\u001b[0;32mC:\\Users\\Rupesh\\Anaconda3\\lib\\site-packages\\sklearn\\utils\\validation.py\u001b[0m in \u001b[0;36mcheck_array\u001b[0;34m(array, accept_sparse, dtype, order, copy, force_all_finite, ensure_2d, allow_nd, ensure_min_samples, ensure_min_features, warn_on_dtype, estimator)\u001b[0m\n\u001b[1;32m    371\u001b[0m                                       force_all_finite)\n\u001b[1;32m    372\u001b[0m     \u001b[1;32melse\u001b[0m\u001b[1;33m:\u001b[0m\u001b[1;33m\u001b[0m\u001b[0m\n\u001b[0;32m--> 373\u001b[0;31m         \u001b[0marray\u001b[0m \u001b[1;33m=\u001b[0m \u001b[0mnp\u001b[0m\u001b[1;33m.\u001b[0m\u001b[0marray\u001b[0m\u001b[1;33m(\u001b[0m\u001b[0marray\u001b[0m\u001b[1;33m,\u001b[0m \u001b[0mdtype\u001b[0m\u001b[1;33m=\u001b[0m\u001b[0mdtype\u001b[0m\u001b[1;33m,\u001b[0m \u001b[0morder\u001b[0m\u001b[1;33m=\u001b[0m\u001b[0morder\u001b[0m\u001b[1;33m,\u001b[0m \u001b[0mcopy\u001b[0m\u001b[1;33m=\u001b[0m\u001b[0mcopy\u001b[0m\u001b[1;33m)\u001b[0m\u001b[1;33m\u001b[0m\u001b[0m\n\u001b[0m\u001b[1;32m    374\u001b[0m \u001b[1;33m\u001b[0m\u001b[0m\n\u001b[1;32m    375\u001b[0m         \u001b[1;32mif\u001b[0m \u001b[0mensure_2d\u001b[0m\u001b[1;33m:\u001b[0m\u001b[1;33m\u001b[0m\u001b[0m\n",
      "\u001b[0;31mValueError\u001b[0m: could not convert string to float: 'SF'"
     ]
    }
   ],
   "source": [
    "clf = RandomForestClassifier(n_estimators=10)\n",
    "clf.fit(df_tr,df['unknown1'])"
   ]
  },
  {
   "cell_type": "code",
   "execution_count": 31,
   "metadata": {
    "collapsed": false
   },
   "outputs": [
    {
     "data": {
      "text/plain": [
       "(125973, 43)"
      ]
     },
     "execution_count": 31,
     "metadata": {},
     "output_type": "execute_result"
    }
   ],
   "source": [
    "df.shape"
   ]
  },
  {
   "cell_type": "code",
   "execution_count": 32,
   "metadata": {
    "collapsed": false
   },
   "outputs": [
    {
     "data": {
      "text/plain": [
       "(22543, 43)"
      ]
     },
     "execution_count": 32,
     "metadata": {},
     "output_type": "execute_result"
    }
   ],
   "source": [
    "df_test.shape"
   ]
  },
  {
   "cell_type": "code",
   "execution_count": 3,
   "metadata": {
    "collapsed": false
   },
   "outputs": [
    {
     "name": "stderr",
     "output_type": "stream",
     "text": [
      "C:\\Users\\Rupesh\\Anaconda3\\lib\\site-packages\\IPython\\core\\interactiveshell.py:2717: DtypeWarning: Columns (3) have mixed types. Specify dtype option on import or set low_memory=False.\n",
      "  interactivity=interactivity, compiler=compiler, result=result)\n"
     ]
    }
   ],
   "source": [
    "df_train1 = pd.DataFrame()\n",
    "df_train1 = pd.read_csv(\"train_proper_csv_attack_types.csv\",'r')\n"
   ]
  },
  {
   "cell_type": "code",
   "execution_count": 4,
   "metadata": {
    "collapsed": false
   },
   "outputs": [
    {
     "name": "stderr",
     "output_type": "stream",
     "text": [
      "C:\\Users\\Rupesh\\Anaconda3\\lib\\site-packages\\IPython\\core\\interactiveshell.py:2717: DtypeWarning: Columns (3) have mixed types. Specify dtype option on import or set low_memory=False.\n",
      "  interactivity=interactivity, compiler=compiler, result=result)\n"
     ]
    }
   ],
   "source": [
    "df_test1 = pd.DataFrame()\n",
    "df_test1 = pd.read_csv(\"test_proper_csv_attack_types.csv\",'r')"
   ]
  },
  {
   "cell_type": "code",
   "execution_count": 5,
   "metadata": {
    "collapsed": true
   },
   "outputs": [],
   "source": [
    "df_tmp = df"
   ]
  },
  {
   "cell_type": "code",
   "execution_count": 6,
   "metadata": {
    "collapsed": true
   },
   "outputs": [],
   "source": [
    "from sklearn.svm import LinearSVC"
   ]
  },
  {
   "cell_type": "code",
   "execution_count": 7,
   "metadata": {
    "collapsed": false
   },
   "outputs": [
    {
     "ename": "ValueError",
     "evalue": "could not convert string to float: 'SF'",
     "output_type": "error",
     "traceback": [
      "\u001b[0;31m---------------------------------------------------------------------------\u001b[0m",
      "\u001b[0;31mValueError\u001b[0m                                Traceback (most recent call last)",
      "\u001b[0;32m<ipython-input-7-1b69c31c4cb0>\u001b[0m in \u001b[0;36m<module>\u001b[0;34m()\u001b[0m\n\u001b[1;32m      1\u001b[0m \u001b[0mclf\u001b[0m \u001b[1;33m=\u001b[0m \u001b[0mLinearSVC\u001b[0m\u001b[1;33m(\u001b[0m\u001b[1;33m)\u001b[0m\u001b[1;33m\u001b[0m\u001b[0m\n\u001b[1;32m      2\u001b[0m \u001b[0mdf_tr\u001b[0m \u001b[1;33m=\u001b[0m \u001b[0mdf_tmp\u001b[0m\u001b[1;33m.\u001b[0m\u001b[0mdrop\u001b[0m\u001b[1;33m(\u001b[0m\u001b[1;34m'unknown1'\u001b[0m\u001b[1;33m,\u001b[0m\u001b[0maxis\u001b[0m \u001b[1;33m=\u001b[0m \u001b[1;36m1\u001b[0m\u001b[1;33m)\u001b[0m\u001b[1;33m\u001b[0m\u001b[0m\n\u001b[0;32m----> 3\u001b[0;31m \u001b[0mclf\u001b[0m\u001b[1;33m.\u001b[0m\u001b[0mfit\u001b[0m\u001b[1;33m(\u001b[0m\u001b[0mdf_tr\u001b[0m\u001b[1;33m,\u001b[0m\u001b[0mdf_tmp\u001b[0m\u001b[1;33m[\u001b[0m\u001b[1;34m'unknown1'\u001b[0m\u001b[1;33m]\u001b[0m\u001b[1;33m)\u001b[0m\u001b[1;33m\u001b[0m\u001b[0m\n\u001b[0m",
      "\u001b[0;32mC:\\Users\\Rupesh\\Anaconda3\\lib\\site-packages\\sklearn\\svm\\classes.py\u001b[0m in \u001b[0;36mfit\u001b[0;34m(self, X, y)\u001b[0m\n\u001b[1;32m    203\u001b[0m \u001b[1;33m\u001b[0m\u001b[0m\n\u001b[1;32m    204\u001b[0m         X, y = check_X_y(X, y, accept_sparse='csr',\n\u001b[0;32m--> 205\u001b[0;31m                          dtype=np.float64, order=\"C\")\n\u001b[0m\u001b[1;32m    206\u001b[0m         \u001b[0mcheck_classification_targets\u001b[0m\u001b[1;33m(\u001b[0m\u001b[0my\u001b[0m\u001b[1;33m)\u001b[0m\u001b[1;33m\u001b[0m\u001b[0m\n\u001b[1;32m    207\u001b[0m         \u001b[0mself\u001b[0m\u001b[1;33m.\u001b[0m\u001b[0mclasses_\u001b[0m \u001b[1;33m=\u001b[0m \u001b[0mnp\u001b[0m\u001b[1;33m.\u001b[0m\u001b[0munique\u001b[0m\u001b[1;33m(\u001b[0m\u001b[0my\u001b[0m\u001b[1;33m)\u001b[0m\u001b[1;33m\u001b[0m\u001b[0m\n",
      "\u001b[0;32mC:\\Users\\Rupesh\\Anaconda3\\lib\\site-packages\\sklearn\\utils\\validation.py\u001b[0m in \u001b[0;36mcheck_X_y\u001b[0;34m(X, y, accept_sparse, dtype, order, copy, force_all_finite, ensure_2d, allow_nd, multi_output, ensure_min_samples, ensure_min_features, y_numeric, warn_on_dtype, estimator)\u001b[0m\n\u001b[1;32m    508\u001b[0m     X = check_array(X, accept_sparse, dtype, order, copy, force_all_finite,\n\u001b[1;32m    509\u001b[0m                     \u001b[0mensure_2d\u001b[0m\u001b[1;33m,\u001b[0m \u001b[0mallow_nd\u001b[0m\u001b[1;33m,\u001b[0m \u001b[0mensure_min_samples\u001b[0m\u001b[1;33m,\u001b[0m\u001b[1;33m\u001b[0m\u001b[0m\n\u001b[0;32m--> 510\u001b[0;31m                     ensure_min_features, warn_on_dtype, estimator)\n\u001b[0m\u001b[1;32m    511\u001b[0m     \u001b[1;32mif\u001b[0m \u001b[0mmulti_output\u001b[0m\u001b[1;33m:\u001b[0m\u001b[1;33m\u001b[0m\u001b[0m\n\u001b[1;32m    512\u001b[0m         y = check_array(y, 'csr', force_all_finite=True, ensure_2d=False,\n",
      "\u001b[0;32mC:\\Users\\Rupesh\\Anaconda3\\lib\\site-packages\\sklearn\\utils\\validation.py\u001b[0m in \u001b[0;36mcheck_array\u001b[0;34m(array, accept_sparse, dtype, order, copy, force_all_finite, ensure_2d, allow_nd, ensure_min_samples, ensure_min_features, warn_on_dtype, estimator)\u001b[0m\n\u001b[1;32m    371\u001b[0m                                       force_all_finite)\n\u001b[1;32m    372\u001b[0m     \u001b[1;32melse\u001b[0m\u001b[1;33m:\u001b[0m\u001b[1;33m\u001b[0m\u001b[0m\n\u001b[0;32m--> 373\u001b[0;31m         \u001b[0marray\u001b[0m \u001b[1;33m=\u001b[0m \u001b[0mnp\u001b[0m\u001b[1;33m.\u001b[0m\u001b[0marray\u001b[0m\u001b[1;33m(\u001b[0m\u001b[0marray\u001b[0m\u001b[1;33m,\u001b[0m \u001b[0mdtype\u001b[0m\u001b[1;33m=\u001b[0m\u001b[0mdtype\u001b[0m\u001b[1;33m,\u001b[0m \u001b[0morder\u001b[0m\u001b[1;33m=\u001b[0m\u001b[0morder\u001b[0m\u001b[1;33m,\u001b[0m \u001b[0mcopy\u001b[0m\u001b[1;33m=\u001b[0m\u001b[0mcopy\u001b[0m\u001b[1;33m)\u001b[0m\u001b[1;33m\u001b[0m\u001b[0m\n\u001b[0m\u001b[1;32m    374\u001b[0m \u001b[1;33m\u001b[0m\u001b[0m\n\u001b[1;32m    375\u001b[0m         \u001b[1;32mif\u001b[0m \u001b[0mensure_2d\u001b[0m\u001b[1;33m:\u001b[0m\u001b[1;33m\u001b[0m\u001b[0m\n",
      "\u001b[0;31mValueError\u001b[0m: could not convert string to float: 'SF'"
     ]
    }
   ],
   "source": [
    "clf = LinearSVC()\n",
    "df_tr = df_tmp.drop('unknown1',axis = 1)\n",
    "clf.fit(df_tr,df_tmp['unknown1'])"
   ]
  },
  {
   "cell_type": "code",
   "execution_count": 2,
   "metadata": {
    "collapsed": false
   },
   "outputs": [
    {
     "name": "stdout",
     "output_type": "stream",
     "text": [
      "                                                       du  \\\n",
      "0       0,tcp,ftp_data,SF,491,0,0,0,0,0,0,0,0,0,0,0,0,...   \n",
      "1                                              0,udp,othe   \n",
      "2                                                 0,tcp,p   \n",
      "3       0,tcp,http,SF,232,8153,0,0,0,0,0,1,0,0,0,0,0,0...   \n",
      "4       0,tcp,http,SF,199,420,0,0,0,0,0,1,0,0,0,0,0,0,...   \n",
      "5                                                 0,tcp,p   \n",
      "6                                                 0,tcp,p   \n",
      "7                                                 0,tcp,p   \n",
      "8                                                  0,tcp,   \n",
      "9                                                 0,tcp,p   \n",
      "10                                                0,tcp,p   \n",
      "11                                                0,tcp,p   \n",
      "12      0,tcp,http,SF,287,2251,0,0,0,0,0,1,0,0,0,0,0,0...   \n",
      "13      0,tcp,ftp_data,SF,334,0,0,0,0,0,0,1,0,0,0,0,0,...   \n",
      "14      0,tcp,name,S0,0,0,0,0,0,0,0,0,0,0,0,0,0,0,0,0,...   \n",
      "15      0,tcp,netbios_ns,S0,0,0,0,0,0,0,0,0,0,0,0,0,0,...   \n",
      "16      0,tcp,http,SF,300,13788,0,0,0,0,0,1,0,0,0,0,0,...   \n",
      "17      0,icmp,eco_i,SF,18,0,0,0,0,0,0,0,0,0,0,0,0,0,0...   \n",
      "18      0,tcp,http,SF,233,616,0,0,0,0,0,1,0,0,0,0,0,0,...   \n",
      "19      0,tcp,http,SF,343,1178,0,0,0,0,0,1,0,0,0,0,0,0...   \n",
      "20      0,tcp,mtp,S0,0,0,0,0,0,0,0,0,0,0,0,0,0,0,0,0,0...   \n",
      "21                                                0,tcp,p   \n",
      "22      0,tcp,http,SF,253,11905,0,0,0,0,0,1,0,0,0,0,0,...   \n",
      "23                                          5607,udp,othe   \n",
      "24      0,tcp,mtp,S0,0,0,0,0,0,0,0,0,0,0,0,0,0,0,0,0,0...   \n",
      "25      507,tcp,telnet,SF,437,14421,0,0,0,0,0,1,3,0,0,...   \n",
      "26                                                0,tcp,p   \n",
      "27      0,tcp,http,SF,227,6588,0,0,0,0,0,1,0,0,0,0,0,0...   \n",
      "28      0,tcp,http,SF,215,10499,0,0,0,0,0,1,0,0,0,0,0,...   \n",
      "29      0,tcp,http,SF,241,1400,0,0,0,0,0,1,0,0,0,0,0,0...   \n",
      "...                                                   ...   \n",
      "125943  0,tcp,ftp_data,SF,491,0,0,0,0,0,0,1,0,0,0,5,0,...   \n",
      "125944  1,tcp,smtp,SF,2049,362,0,0,0,0,0,1,0,0,0,0,0,0...   \n",
      "125945  0,tcp,http,SF,247,799,0,0,0,0,0,1,0,0,0,0,0,0,...   \n",
      "125946                                        0,tcp,finge   \n",
      "125947  0,icmp,eco_i,SF,18,0,0,0,0,0,0,0,0,0,0,0,0,0,0...   \n",
      "125948                                            0,tcp,p   \n",
      "125949  0,tcp,http,REJ,0,0,0,0,0,0,0,0,0,0,0,0,0,0,0,0...   \n",
      "125950                                            0,udp,p   \n",
      "125951  0,tcp,http,SF,254,555,0,0,0,0,0,1,0,0,0,0,0,0,...   \n",
      "125952  0,tcp,smtp,SF,1289,408,0,0,0,0,0,1,0,0,0,0,0,0...   \n",
      "125953  0,tcp,auth,S0,0,0,0,0,0,0,0,0,0,0,0,0,0,0,0,0,...   \n",
      "125954  0,tcp,http,SF,269,10939,0,0,0,0,0,1,0,0,0,0,0,...   \n",
      "125955  0,tcp,http,REJ,0,0,0,0,0,0,0,0,0,0,0,0,0,0,0,0...   \n",
      "125956  0,icmp,eco_i,SF,30,0,0,0,0,0,0,0,0,0,0,0,0,0,0...   \n",
      "125957  1,tcp,smtp,SF,1247,327,0,0,0,0,0,1,0,0,0,0,0,0...   \n",
      "125958                                            0,tcp,p   \n",
      "125959  0,tcp,http,SF,373,4777,0,0,0,0,0,1,0,0,0,0,0,0...   \n",
      "125960  0,tcp,http,SF,329,885,0,0,0,0,0,1,0,0,0,0,0,0,...   \n",
      "125961  0,tcp,http,SF,236,2698,0,0,0,0,0,1,0,0,0,0,0,0...   \n",
      "125962  0,udp,domain_u,SF,33,0,0,0,0,0,0,0,0,0,0,0,0,0...   \n",
      "125963  0,tcp,http,SF,334,1600,0,0,0,0,0,1,0,0,0,0,0,0...   \n",
      "125964                                            0,tcp,p   \n",
      "125965  0,tcp,smtp,SF,2233,365,0,0,0,0,0,1,0,0,0,0,0,0...   \n",
      "125966                                            0,tcp,p   \n",
      "125967  0,tcp,http,SF,359,375,0,0,0,0,0,1,0,0,0,0,0,0,...   \n",
      "125968                                            0,tcp,p   \n",
      "125969                                            8,udp,p   \n",
      "125970  0,tcp,smtp,SF,2231,384,0,0,0,0,0,1,0,0,0,0,0,0...   \n",
      "125971  0,tcp,klogin,S0,0,0,0,0,0,0,0,0,0,0,0,0,0,0,0,...   \n",
      "125972  0,tcp,ftp_data,SF,151,0,0,0,0,0,0,1,0,0,0,0,0,...   \n",
      "\n",
      "                                                  ation,p otocol_type,se  \\\n",
      "0                                                  mal,20            NaN   \n",
      "1       ,SF,146,0,0,0,0,0,0,0,0,0,0,0,0,0,0,0,0,0,13,1...         mal,15   \n",
      "2       ivate,S0,0,0,0,0,0,0,0,0,0,0,0,0,0,0,0,0,0,0,1...            NaN   \n",
      "3                                                  mal,21            NaN   \n",
      "4                                                  mal,21            NaN   \n",
      "5       ivate,REJ,0,0,0,0,0,0,0,0,0,0,0,0,0,0,0,0,0,0,...            NaN   \n",
      "6       ivate,S0,0,0,0,0,0,0,0,0,0,0,0,0,0,0,0,0,0,0,1...            NaN   \n",
      "7       ivate,S0,0,0,0,0,0,0,0,0,0,0,0,0,0,0,0,0,0,0,1...            NaN   \n",
      "8       emote_job,S0,0,0,0,0,0,0,0,0,0,0,0,0,0,0,0,0,0...            NaN   \n",
      "9       ivate,S0,0,0,0,0,0,0,0,0,0,0,0,0,0,0,0,0,0,0,1...            NaN   \n",
      "10      ivate,REJ,0,0,0,0,0,0,0,0,0,0,0,0,0,0,0,0,0,0,...            NaN   \n",
      "11      ivate,S0,0,0,0,0,0,0,0,0,0,0,0,0,0,0,0,0,0,0,1...            NaN   \n",
      "12                                                 mal,21            NaN   \n",
      "13                                            ezclient,15            NaN   \n",
      "14                                                    NaN            NaN   \n",
      "15                                                    NaN            NaN   \n",
      "16                                                 mal,21            NaN   \n",
      "17                                                    NaN            NaN   \n",
      "18                                                 mal,21            NaN   \n",
      "19                                                 mal,21            NaN   \n",
      "20                                                    NaN            NaN   \n",
      "21      ivate,S0,0,0,0,0,0,0,0,0,0,0,0,0,0,0,0,0,0,0,2...            NaN   \n",
      "22                                                 mal,21            NaN   \n",
      "23      ,SF,147,105,0,0,0,0,0,0,0,0,0,0,0,0,0,0,0,0,1,...         mal,21   \n",
      "24                                                    NaN            NaN   \n",
      "25                                                 mal,20            NaN   \n",
      "26      ivate,S0,0,0,0,0,0,0,0,0,0,0,0,0,0,0,0,0,0,0,2...            NaN   \n",
      "27                                                 mal,21            NaN   \n",
      "28                                                 mal,21            NaN   \n",
      "29                                                 mal,21            NaN   \n",
      "...                                                   ...            ...   \n",
      "125943                                             mal,21            NaN   \n",
      "125944                                             mal,21            NaN   \n",
      "125945                                             mal,21            NaN   \n",
      "125946  ,S0,0,0,0,0,0,0,0,0,0,0,0,0,0,0,0,0,0,0,288,13...            NaN   \n",
      "125947                                                NaN            NaN   \n",
      "125948  ivate,S0,0,0,0,0,0,0,0,0,0,0,0,0,0,0,0,0,0,0,1...            NaN   \n",
      "125949                                             mal,21            NaN   \n",
      "125950  ivate,SF,28,0,0,3,0,0,0,0,0,0,0,0,0,0,0,0,0,0,...              d   \n",
      "125951                                             mal,21            NaN   \n",
      "125952                                             mal,15            NaN   \n",
      "125953                                                NaN            NaN   \n",
      "125954                                             mal,21            NaN   \n",
      "125955                                             mal,21            NaN   \n",
      "125956                                             mal,20            NaN   \n",
      "125957                                             mal,21            NaN   \n",
      "125958  ivate,S0,0,0,0,0,0,0,0,0,0,0,0,0,0,0,0,0,0,0,1...            NaN   \n",
      "125959                                             mal,21            NaN   \n",
      "125960                                             mal,21            NaN   \n",
      "125961                                             mal,21            NaN   \n",
      "125962                                             mal,21            NaN   \n",
      "125963                                             mal,21            NaN   \n",
      "125964  ivate,S0,0,0,0,0,0,0,0,0,0,0,0,0,0,0,0,0,0,0,1...            NaN   \n",
      "125965                                             mal,19            NaN   \n",
      "125966  ivate,S0,0,0,0,0,0,0,0,0,0,0,0,0,0,0,0,0,0,0,1...            NaN   \n",
      "125967                                             mal,18            NaN   \n",
      "125968  ivate,S0,0,0,0,0,0,0,0,0,0,0,0,0,0,0,0,0,0,0,1...            NaN   \n",
      "125969  ivate,SF,105,145,0,0,0,0,0,0,0,0,0,0,0,0,0,0,0...         mal,21   \n",
      "125970                                             mal,18            NaN   \n",
      "125971                                                NaN            NaN   \n",
      "125972                                             mal,21            NaN   \n",
      "\n",
      "       vice,flag,s  c_bytes,dst_bytes,land,w  ong_f  agment,u  \\\n",
      "0              NaN                       NaN    NaN       NaN   \n",
      "1              NaN                       NaN    NaN       NaN   \n",
      "2              NaN                       NaN    NaN       NaN   \n",
      "3              NaN                       NaN    NaN       NaN   \n",
      "4              NaN                       NaN    NaN       NaN   \n",
      "5              NaN                       NaN    NaN       NaN   \n",
      "6              NaN                       NaN    NaN       NaN   \n",
      "7              NaN                       NaN    NaN       NaN   \n",
      "8              NaN                       NaN    NaN       NaN   \n",
      "9              NaN                       NaN    NaN       NaN   \n",
      "10             NaN                       NaN    NaN       NaN   \n",
      "11             NaN                       NaN    NaN       NaN   \n",
      "12             NaN                       NaN    NaN       NaN   \n",
      "13             NaN                       NaN    NaN       NaN   \n",
      "14             NaN                       NaN    NaN       NaN   \n",
      "15             NaN                       NaN    NaN       NaN   \n",
      "16             NaN                       NaN    NaN       NaN   \n",
      "17             NaN                       NaN    NaN       NaN   \n",
      "18             NaN                       NaN    NaN       NaN   \n",
      "19             NaN                       NaN    NaN       NaN   \n",
      "20             NaN                       NaN    NaN       NaN   \n",
      "21             NaN                       NaN    NaN       NaN   \n",
      "22             NaN                       NaN    NaN       NaN   \n",
      "23             NaN                       NaN    NaN       NaN   \n",
      "24             NaN                       NaN    NaN       NaN   \n",
      "25             NaN                       NaN    NaN       NaN   \n",
      "26             NaN                       NaN    NaN       NaN   \n",
      "27             NaN                       NaN    NaN       NaN   \n",
      "28             NaN                       NaN    NaN       NaN   \n",
      "29             NaN                       NaN    NaN       NaN   \n",
      "...            ...                       ...    ...       ...   \n",
      "125943         NaN                       NaN    NaN       NaN   \n",
      "125944         NaN                       NaN    NaN       NaN   \n",
      "125945         NaN                       NaN    NaN       NaN   \n",
      "125946         NaN                       NaN    NaN       NaN   \n",
      "125947         NaN                       NaN    NaN       NaN   \n",
      "125948         NaN                       NaN    NaN       NaN   \n",
      "125949         NaN                       NaN    NaN       NaN   \n",
      "125950       op,16                       NaN    NaN       NaN   \n",
      "125951         NaN                       NaN    NaN       NaN   \n",
      "125952         NaN                       NaN    NaN       NaN   \n",
      "125953         NaN                       NaN    NaN       NaN   \n",
      "125954         NaN                       NaN    NaN       NaN   \n",
      "125955         NaN                       NaN    NaN       NaN   \n",
      "125956         NaN                       NaN    NaN       NaN   \n",
      "125957         NaN                       NaN    NaN       NaN   \n",
      "125958         NaN                       NaN    NaN       NaN   \n",
      "125959         NaN                       NaN    NaN       NaN   \n",
      "125960         NaN                       NaN    NaN       NaN   \n",
      "125961         NaN                       NaN    NaN       NaN   \n",
      "125962         NaN                       NaN    NaN       NaN   \n",
      "125963         NaN                       NaN    NaN       NaN   \n",
      "125964         NaN                       NaN    NaN       NaN   \n",
      "125965         NaN                       NaN    NaN       NaN   \n",
      "125966         NaN                       NaN    NaN       NaN   \n",
      "125967         NaN                       NaN    NaN       NaN   \n",
      "125968         NaN                       NaN    NaN       NaN   \n",
      "125969         NaN                       NaN    NaN       NaN   \n",
      "125970         NaN                       NaN    NaN       NaN   \n",
      "125971         NaN                       NaN    NaN       NaN   \n",
      "125972         NaN                       NaN    NaN       NaN   \n",
      "\n",
      "        gent,hot,num_failed_logins,logged_in,num_comp  omised,  \\\n",
      "0                                                 NaN      NaN   \n",
      "1                                                 NaN      NaN   \n",
      "2                                                 NaN      NaN   \n",
      "3                                                 NaN      NaN   \n",
      "4                                                 NaN      NaN   \n",
      "5                                                 NaN      NaN   \n",
      "6                                                 NaN      NaN   \n",
      "7                                                 NaN      NaN   \n",
      "8                                                 NaN      NaN   \n",
      "9                                                 NaN      NaN   \n",
      "10                                                NaN      NaN   \n",
      "11                                                NaN      NaN   \n",
      "12                                                NaN      NaN   \n",
      "13                                                NaN      NaN   \n",
      "14                                                NaN      NaN   \n",
      "15                                                NaN      NaN   \n",
      "16                                                NaN      NaN   \n",
      "17                                                NaN      NaN   \n",
      "18                                                NaN      NaN   \n",
      "19                                                NaN      NaN   \n",
      "20                                                NaN      NaN   \n",
      "21                                                NaN      NaN   \n",
      "22                                                NaN      NaN   \n",
      "23                                                NaN      NaN   \n",
      "24                                                NaN      NaN   \n",
      "25                                                NaN      NaN   \n",
      "26                                                NaN      NaN   \n",
      "27                                                NaN      NaN   \n",
      "28                                                NaN      NaN   \n",
      "29                                                NaN      NaN   \n",
      "...                                               ...      ...   \n",
      "125943                                            NaN      NaN   \n",
      "125944                                            NaN      NaN   \n",
      "125945                                            NaN      NaN   \n",
      "125946                                            NaN      NaN   \n",
      "125947                                            NaN      NaN   \n",
      "125948                                            NaN      NaN   \n",
      "125949                                            NaN      NaN   \n",
      "125950                                            NaN      NaN   \n",
      "125951                                            NaN      NaN   \n",
      "125952                                            NaN      NaN   \n",
      "125953                                            NaN      NaN   \n",
      "125954                                            NaN      NaN   \n",
      "125955                                            NaN      NaN   \n",
      "125956                                            NaN      NaN   \n",
      "125957                                            NaN      NaN   \n",
      "125958                                            NaN      NaN   \n",
      "125959                                            NaN      NaN   \n",
      "125960                                            NaN      NaN   \n",
      "125961                                            NaN      NaN   \n",
      "125962                                            NaN      NaN   \n",
      "125963                                            NaN      NaN   \n",
      "125964                                            NaN      NaN   \n",
      "125965                                            NaN      NaN   \n",
      "125966                                            NaN      NaN   \n",
      "125967                                            NaN      NaN   \n",
      "125968                                            NaN      NaN   \n",
      "125969                                            NaN      NaN   \n",
      "125970                                            NaN      NaN   \n",
      "125971                                            NaN      NaN   \n",
      "125972                                            NaN      NaN   \n",
      "\n",
      "        oot_shell,su_attempted,num_          ...            Unnamed: 59  o.6  \\\n",
      "0                               NaN          ...                    NaN  NaN   \n",
      "1                               NaN          ...                    NaN  NaN   \n",
      "2                               NaN          ...                    NaN  NaN   \n",
      "3                               NaN          ...                    NaN  NaN   \n",
      "4                               NaN          ...                    NaN  NaN   \n",
      "5                               NaN          ...                    NaN  NaN   \n",
      "6                               NaN          ...                    NaN  NaN   \n",
      "7                               NaN          ...                    NaN  NaN   \n",
      "8                               NaN          ...                    NaN  NaN   \n",
      "9                               NaN          ...                    NaN  NaN   \n",
      "10                              NaN          ...                    NaN  NaN   \n",
      "11                              NaN          ...                    NaN  NaN   \n",
      "12                              NaN          ...                    NaN  NaN   \n",
      "13                              NaN          ...                    NaN  NaN   \n",
      "14                              NaN          ...                    NaN  NaN   \n",
      "15                              NaN          ...                    NaN  NaN   \n",
      "16                              NaN          ...                    NaN  NaN   \n",
      "17                              NaN          ...                    NaN  NaN   \n",
      "18                              NaN          ...                    NaN  NaN   \n",
      "19                              NaN          ...                    NaN  NaN   \n",
      "20                              NaN          ...                    NaN  NaN   \n",
      "21                              NaN          ...                    NaN  NaN   \n",
      "22                              NaN          ...                    NaN  NaN   \n",
      "23                              NaN          ...                    NaN  NaN   \n",
      "24                              NaN          ...                    NaN  NaN   \n",
      "25                              NaN          ...                    NaN  NaN   \n",
      "26                              NaN          ...                    NaN  NaN   \n",
      "27                              NaN          ...                    NaN  NaN   \n",
      "28                              NaN          ...                    NaN  NaN   \n",
      "29                              NaN          ...                    NaN  NaN   \n",
      "...                             ...          ...                    ...  ...   \n",
      "125943                          NaN          ...                    NaN  NaN   \n",
      "125944                          NaN          ...                    NaN  NaN   \n",
      "125945                          NaN          ...                    NaN  NaN   \n",
      "125946                          NaN          ...                    NaN  NaN   \n",
      "125947                          NaN          ...                    NaN  NaN   \n",
      "125948                          NaN          ...                    NaN  NaN   \n",
      "125949                          NaN          ...                    NaN  NaN   \n",
      "125950                          NaN          ...                    NaN  NaN   \n",
      "125951                          NaN          ...                    NaN  NaN   \n",
      "125952                          NaN          ...                    NaN  NaN   \n",
      "125953                          NaN          ...                    NaN  NaN   \n",
      "125954                          NaN          ...                    NaN  NaN   \n",
      "125955                          NaN          ...                    NaN  NaN   \n",
      "125956                          NaN          ...                    NaN  NaN   \n",
      "125957                          NaN          ...                    NaN  NaN   \n",
      "125958                          NaN          ...                    NaN  NaN   \n",
      "125959                          NaN          ...                    NaN  NaN   \n",
      "125960                          NaN          ...                    NaN  NaN   \n",
      "125961                          NaN          ...                    NaN  NaN   \n",
      "125962                          NaN          ...                    NaN  NaN   \n",
      "125963                          NaN          ...                    NaN  NaN   \n",
      "125964                          NaN          ...                    NaN  NaN   \n",
      "125965                          NaN          ...                    NaN  NaN   \n",
      "125966                          NaN          ...                    NaN  NaN   \n",
      "125967                          NaN          ...                    NaN  NaN   \n",
      "125968                          NaN          ...                    NaN  NaN   \n",
      "125969                          NaN          ...                    NaN  NaN   \n",
      "125970                          NaN          ...                    NaN  NaN   \n",
      "125971                          NaN          ...                    NaN  NaN   \n",
      "125972                          NaN          ...                    NaN  NaN   \n",
      "\n",
      "        _.6  ate,dst_host_s.2  v_.5  e.3  Unnamed: 65  o.7  _.7  \\\n",
      "0       NaN               NaN   NaN  NaN          NaN  NaN  NaN   \n",
      "1       NaN               NaN   NaN  NaN          NaN  NaN  NaN   \n",
      "2       NaN               NaN   NaN  NaN          NaN  NaN  NaN   \n",
      "3       NaN               NaN   NaN  NaN          NaN  NaN  NaN   \n",
      "4       NaN               NaN   NaN  NaN          NaN  NaN  NaN   \n",
      "5       NaN               NaN   NaN  NaN          NaN  NaN  NaN   \n",
      "6       NaN               NaN   NaN  NaN          NaN  NaN  NaN   \n",
      "7       NaN               NaN   NaN  NaN          NaN  NaN  NaN   \n",
      "8       NaN               NaN   NaN  NaN          NaN  NaN  NaN   \n",
      "9       NaN               NaN   NaN  NaN          NaN  NaN  NaN   \n",
      "10      NaN               NaN   NaN  NaN          NaN  NaN  NaN   \n",
      "11      NaN               NaN   NaN  NaN          NaN  NaN  NaN   \n",
      "12      NaN               NaN   NaN  NaN          NaN  NaN  NaN   \n",
      "13      NaN               NaN   NaN  NaN          NaN  NaN  NaN   \n",
      "14      NaN               NaN   NaN  NaN          NaN  NaN  NaN   \n",
      "15      NaN               NaN   NaN  NaN          NaN  NaN  NaN   \n",
      "16      NaN               NaN   NaN  NaN          NaN  NaN  NaN   \n",
      "17      NaN               NaN   NaN  NaN          NaN  NaN  NaN   \n",
      "18      NaN               NaN   NaN  NaN          NaN  NaN  NaN   \n",
      "19      NaN               NaN   NaN  NaN          NaN  NaN  NaN   \n",
      "20      NaN               NaN   NaN  NaN          NaN  NaN  NaN   \n",
      "21      NaN               NaN   NaN  NaN          NaN  NaN  NaN   \n",
      "22      NaN               NaN   NaN  NaN          NaN  NaN  NaN   \n",
      "23      NaN               NaN   NaN  NaN          NaN  NaN  NaN   \n",
      "24      NaN               NaN   NaN  NaN          NaN  NaN  NaN   \n",
      "25      NaN               NaN   NaN  NaN          NaN  NaN  NaN   \n",
      "26      NaN               NaN   NaN  NaN          NaN  NaN  NaN   \n",
      "27      NaN               NaN   NaN  NaN          NaN  NaN  NaN   \n",
      "28      NaN               NaN   NaN  NaN          NaN  NaN  NaN   \n",
      "29      NaN               NaN   NaN  NaN          NaN  NaN  NaN   \n",
      "...     ...               ...   ...  ...          ...  ...  ...   \n",
      "125943  NaN               NaN   NaN  NaN          NaN  NaN  NaN   \n",
      "125944  NaN               NaN   NaN  NaN          NaN  NaN  NaN   \n",
      "125945  NaN               NaN   NaN  NaN          NaN  NaN  NaN   \n",
      "125946  NaN               NaN   NaN  NaN          NaN  NaN  NaN   \n",
      "125947  NaN               NaN   NaN  NaN          NaN  NaN  NaN   \n",
      "125948  NaN               NaN   NaN  NaN          NaN  NaN  NaN   \n",
      "125949  NaN               NaN   NaN  NaN          NaN  NaN  NaN   \n",
      "125950  NaN               NaN   NaN  NaN          NaN  NaN  NaN   \n",
      "125951  NaN               NaN   NaN  NaN          NaN  NaN  NaN   \n",
      "125952  NaN               NaN   NaN  NaN          NaN  NaN  NaN   \n",
      "125953  NaN               NaN   NaN  NaN          NaN  NaN  NaN   \n",
      "125954  NaN               NaN   NaN  NaN          NaN  NaN  NaN   \n",
      "125955  NaN               NaN   NaN  NaN          NaN  NaN  NaN   \n",
      "125956  NaN               NaN   NaN  NaN          NaN  NaN  NaN   \n",
      "125957  NaN               NaN   NaN  NaN          NaN  NaN  NaN   \n",
      "125958  NaN               NaN   NaN  NaN          NaN  NaN  NaN   \n",
      "125959  NaN               NaN   NaN  NaN          NaN  NaN  NaN   \n",
      "125960  NaN               NaN   NaN  NaN          NaN  NaN  NaN   \n",
      "125961  NaN               NaN   NaN  NaN          NaN  NaN  NaN   \n",
      "125962  NaN               NaN   NaN  NaN          NaN  NaN  NaN   \n",
      "125963  NaN               NaN   NaN  NaN          NaN  NaN  NaN   \n",
      "125964  NaN               NaN   NaN  NaN          NaN  NaN  NaN   \n",
      "125965  NaN               NaN   NaN  NaN          NaN  NaN  NaN   \n",
      "125966  NaN               NaN   NaN  NaN          NaN  NaN  NaN   \n",
      "125967  NaN               NaN   NaN  NaN          NaN  NaN  NaN   \n",
      "125968  NaN               NaN   NaN  NaN          NaN  NaN  NaN   \n",
      "125969  NaN               NaN   NaN  NaN          NaN  NaN  NaN   \n",
      "125970  NaN               NaN   NaN  NaN          NaN  NaN  NaN   \n",
      "125971  NaN               NaN   NaN  NaN          NaN  NaN  NaN   \n",
      "125972  NaN               NaN   NaN  NaN          NaN  NaN  NaN   \n",
      "\n",
      "        ate,unknown1,unknown2  \n",
      "0                         NaN  \n",
      "1                         NaN  \n",
      "2                         NaN  \n",
      "3                         NaN  \n",
      "4                         NaN  \n",
      "5                         NaN  \n",
      "6                         NaN  \n",
      "7                         NaN  \n",
      "8                         NaN  \n",
      "9                         NaN  \n",
      "10                        NaN  \n",
      "11                        NaN  \n",
      "12                        NaN  \n",
      "13                        NaN  \n",
      "14                        NaN  \n",
      "15                        NaN  \n",
      "16                        NaN  \n",
      "17                        NaN  \n",
      "18                        NaN  \n",
      "19                        NaN  \n",
      "20                        NaN  \n",
      "21                        NaN  \n",
      "22                        NaN  \n",
      "23                        NaN  \n",
      "24                        NaN  \n",
      "25                        NaN  \n",
      "26                        NaN  \n",
      "27                        NaN  \n",
      "28                        NaN  \n",
      "29                        NaN  \n",
      "...                       ...  \n",
      "125943                    NaN  \n",
      "125944                    NaN  \n",
      "125945                    NaN  \n",
      "125946                    NaN  \n",
      "125947                    NaN  \n",
      "125948                    NaN  \n",
      "125949                    NaN  \n",
      "125950                    NaN  \n",
      "125951                    NaN  \n",
      "125952                    NaN  \n",
      "125953                    NaN  \n",
      "125954                    NaN  \n",
      "125955                    NaN  \n",
      "125956                    NaN  \n",
      "125957                    NaN  \n",
      "125958                    NaN  \n",
      "125959                    NaN  \n",
      "125960                    NaN  \n",
      "125961                    NaN  \n",
      "125962                    NaN  \n",
      "125963                    NaN  \n",
      "125964                    NaN  \n",
      "125965                    NaN  \n",
      "125966                    NaN  \n",
      "125967                    NaN  \n",
      "125968                    NaN  \n",
      "125969                    NaN  \n",
      "125970                    NaN  \n",
      "125971                    NaN  \n",
      "125972                    NaN  \n",
      "\n",
      "[125973 rows x 69 columns]\n"
     ]
    }
   ],
   "source": [
    "print(df_tmp)"
   ]
  },
  {
   "cell_type": "code",
   "execution_count": null,
   "metadata": {
    "collapsed": true
   },
   "outputs": [],
   "source": []
  }
 ],
 "metadata": {
  "anaconda-cloud": {},
  "kernelspec": {
   "display_name": "Python [conda root]",
   "language": "python",
   "name": "conda-root-py"
  },
  "language_info": {
   "codemirror_mode": {
    "name": "ipython",
    "version": 3
   },
   "file_extension": ".py",
   "mimetype": "text/x-python",
   "name": "python",
   "nbconvert_exporter": "python",
   "pygments_lexer": "ipython3",
   "version": "3.5.2"
  }
 },
 "nbformat": 4,
 "nbformat_minor": 1
}
