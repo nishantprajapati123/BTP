{
 "cells": [
  {
   "cell_type": "code",
   "execution_count": 1,
   "metadata": {
    "collapsed": true
   },
   "outputs": [],
   "source": [
    "import pandas as pd"
   ]
  },
  {
   "cell_type": "code",
   "execution_count": 2,
   "metadata": {
    "collapsed": false
   },
   "outputs": [
    {
     "name": "stderr",
     "output_type": "stream",
     "text": [
      "C:\\Users\\Rupesh\\Anaconda3\\lib\\site-packages\\IPython\\core\\interactiveshell.py:2717: DtypeWarning: Columns (0,4,5,6,7,8,9,10,11,12,13,14,15,16,17,18,19,20,21,22,23,24,25,26,27,28,29,30,31,32,33,34,35,36,37,38,39,40,42) have mixed types. Specify dtype option on import or set low_memory=False.\n",
      "  interactivity=interactivity, compiler=compiler, result=result)\n"
     ]
    }
   ],
   "source": [
    "df = pd.DataFrame()\n",
    "df = pd.read_csv(\"train_proper_csv_attack_types.csv\",header = None)\n",
    "df = df.rename(columns=df.iloc[0])\n",
    "df = df.drop(df.index[0])\n",
    "df = df.drop('unknown2',axis=1)"
   ]
  },
  {
   "cell_type": "code",
   "execution_count": 3,
   "metadata": {
    "collapsed": false
   },
   "outputs": [
    {
     "name": "stderr",
     "output_type": "stream",
     "text": [
      "C:\\Users\\Rupesh\\Anaconda3\\lib\\site-packages\\IPython\\core\\interactiveshell.py:2717: DtypeWarning: Columns (0,4,5,6,7,8,9,10,11,12,13,14,15,16,17,18,19,20,21,22,23,24,25,26,27,28,29,30,31,32,33,34,35,36,37,38,39,40,42) have mixed types. Specify dtype option on import or set low_memory=False.\n",
      "  interactivity=interactivity, compiler=compiler, result=result)\n"
     ]
    }
   ],
   "source": [
    "df1 = pd.DataFrame()\n",
    "df1 = pd.read_csv(\"test_proper_csv_attack_types.csv\",header = None)\n",
    "df1 = df1.rename(columns=df1.iloc[0])\n",
    "df1 = df1.drop(df1.index[0])\n",
    "df1 = df1.drop('unknown2',axis=1)"
   ]
  },
  {
   "cell_type": "code",
   "execution_count": 4,
   "metadata": {
    "collapsed": true
   },
   "outputs": [],
   "source": [
    "df_tot = pd.concat([df,df1])"
   ]
  },
  {
   "cell_type": "code",
   "execution_count": 5,
   "metadata": {
    "collapsed": true
   },
   "outputs": [],
   "source": [
    "def bool_attack(x):\n",
    "    if(x != \"normal\"):\n",
    "        return \"attack\"\n",
    "    else:\n",
    "        return \"normal\""
   ]
  },
  {
   "cell_type": "code",
   "execution_count": 6,
   "metadata": {
    "collapsed": true
   },
   "outputs": [],
   "source": [
    "from sklearn.feature_selection import SelectFpr\n",
    "from sklearn.feature_selection import chi2\n",
    "from sklearn.preprocessing import Normalizer\n",
    "\n",
    "df_tot_1 = df_tot.drop('unknown1',axis=1)\n",
    "df_output = df_tot['unknown1'].apply(bool_attack)\n",
    "df_tot_dummies = pd.get_dummies(df_tot_1,columns = [\"protocol_type\",\"service\",\"flag\"])\n",
    "x_normalise = Normalizer().fit(df_tot_dummies)\n",
    "df_tot_dummies = x_normalise.transform(df_tot_dummies)\n",
    "x_new = SelectFpr(chi2, alpha=0.05).fit_transform(df_tot_dummies, df_output)"
   ]
  },
  {
   "cell_type": "code",
   "execution_count": 8,
   "metadata": {
    "collapsed": false
   },
   "outputs": [],
   "source": [
    "import pickle\n",
    "\n",
    "random_forest_clf = pickle.load(open('random_forest_test.sav', 'rb'))\n",
    "AdaBoost_clf = pickle.load(open('AdaBoost_test.sav', 'rb'))\n",
    "svc_clf = pickle.load(open('svc_test.sav', 'rb'))"
   ]
  },
  {
   "cell_type": "code",
   "execution_count": 9,
   "metadata": {
    "collapsed": true
   },
   "outputs": [],
   "source": [
    "X_train = x_new[:125000]\n",
    "y_train = df_output.iloc[:125000]\n",
    "X_test = x_new[125000:]\n",
    "y_test = df_output.iloc[125000:]"
   ]
  },
  {
   "cell_type": "code",
   "execution_count": 10,
   "metadata": {
    "collapsed": true
   },
   "outputs": [],
   "source": [
    "from sklearn.metrics import classification_report"
   ]
  },
  {
   "cell_type": "code",
   "execution_count": null,
   "metadata": {
    "collapsed": false
   },
   "outputs": [],
   "source": []
  },
  {
   "cell_type": "code",
   "execution_count": null,
   "metadata": {
    "collapsed": false
   },
   "outputs": [],
   "source": [
    "rf_pred = random_forest_clf.predict(X_train)\n",
    "rf_conf = random_forest_clf.predict_proba(X_train)\n",
    "ada_pred = AdaBoost_clf.predict(X_train)\n",
    "ada_conf = AdaBoost_clf.predict_proba(X_train)\n",
    "svc_pred = svc_clf.predict(X_train)\n",
    "svc_conf = svc_clf.predict_proba(X_train)"
   ]
  },
  {
   "cell_type": "code",
   "execution_count": null,
   "metadata": {
    "collapsed": false
   },
   "outputs": [],
   "source": [
    "conf_vec_list=[]\n",
    "clf_vec_list=[]\n",
    "state_vec_list=[]"
   ]
  },
  {
   "cell_type": "code",
   "execution_count": null,
   "metadata": {
    "collapsed": true
   },
   "outputs": [],
   "source": [
    "for i in range(len(rf_pred)):\n",
    "    tmp1=[]\n",
    "    tmp1.append(rf_pred[i])\n",
    "    tmp1.append(ada_pred[i])\n",
    "    tmp1.append(svc_pred[i])\n",
    "    clf_vec_list.append(tmp1)\n",
    "    state_vec_list.append(tmp1+list(x_new[i]))\n",
    "    \n",
    "    tmp1=[]\n",
    "    tmp1.append(rf_conf[i])\n",
    "    tmp1.append(ada_conf[i])\n",
    "    tmp1.append(svc_conf[i])\n",
    "    conf_vec_list.append(tmp1)"
   ]
  },
  {
   "cell_type": "code",
   "execution_count": null,
   "metadata": {
    "collapsed": true
   },
   "outputs": [],
   "source": []
  }
 ],
 "metadata": {
  "anaconda-cloud": {},
  "kernelspec": {
   "display_name": "Python [conda root]",
   "language": "python",
   "name": "conda-root-py"
  },
  "language_info": {
   "codemirror_mode": {
    "name": "ipython",
    "version": 3
   },
   "file_extension": ".py",
   "mimetype": "text/x-python",
   "name": "python",
   "nbconvert_exporter": "python",
   "pygments_lexer": "ipython3",
   "version": "3.5.2"
  }
 },
 "nbformat": 4,
 "nbformat_minor": 1
}
