{
 "cells": [
  {
   "cell_type": "code",
   "execution_count": 1,
   "metadata": {
    "collapsed": true
   },
   "outputs": [],
   "source": [
    "import pandas as pd"
   ]
  },
  {
   "cell_type": "code",
   "execution_count": 2,
   "metadata": {
    "collapsed": false
   },
   "outputs": [
    {
     "name": "stderr",
     "output_type": "stream",
     "text": [
      "C:\\Users\\Rupesh\\Anaconda3\\lib\\site-packages\\IPython\\core\\interactiveshell.py:2717: DtypeWarning: Columns (0,4,5,6,7,8,9,10,11,12,13,14,15,16,17,18,19,20,21,22,23,24,25,26,27,28,29,30,31,32,33,34,35,36,37,38,39,40,42) have mixed types. Specify dtype option on import or set low_memory=False.\n",
      "  interactivity=interactivity, compiler=compiler, result=result)\n"
     ]
    }
   ],
   "source": [
    "df = pd.DataFrame()\n",
    "df = pd.read_csv(\"train_proper_csv_attack_types.csv\",header = None)\n",
    "df = df.rename(columns=df.iloc[0])\n",
    "df = df.drop(df.index[0])\n",
    "df = df.drop('unknown2',axis=1)"
   ]
  },
  {
   "cell_type": "code",
   "execution_count": 3,
   "metadata": {
    "collapsed": false
   },
   "outputs": [
    {
     "name": "stderr",
     "output_type": "stream",
     "text": [
      "C:\\Users\\Rupesh\\Anaconda3\\lib\\site-packages\\IPython\\core\\interactiveshell.py:2717: DtypeWarning: Columns (0,4,5,6,7,8,9,10,11,12,13,14,15,16,17,18,19,20,21,22,23,24,25,26,27,28,29,30,31,32,33,34,35,36,37,38,39,40,42) have mixed types. Specify dtype option on import or set low_memory=False.\n",
      "  interactivity=interactivity, compiler=compiler, result=result)\n"
     ]
    }
   ],
   "source": [
    "df1 = pd.DataFrame()\n",
    "df1 = pd.read_csv(\"test_proper_csv_attack_types.csv\",header = None)\n",
    "df1 = df1.rename(columns=df1.iloc[0])\n",
    "df1 = df1.drop(df1.index[0])\n",
    "df1 = df1.drop('unknown2',axis=1)"
   ]
  },
  {
   "cell_type": "code",
   "execution_count": 4,
   "metadata": {
    "collapsed": true
   },
   "outputs": [],
   "source": [
    "df_tot = pd.concat([df,df1])"
   ]
  },
  {
   "cell_type": "code",
   "execution_count": 5,
   "metadata": {
    "collapsed": true
   },
   "outputs": [],
   "source": [
    "def bool_attack(x):\n",
    "    if(x != \"normal\"):\n",
    "        return \"attack\"\n",
    "    else:\n",
    "        return \"normal\""
   ]
  },
  {
   "cell_type": "code",
   "execution_count": 6,
   "metadata": {
    "collapsed": true
   },
   "outputs": [],
   "source": [
    "from sklearn.feature_selection import SelectFpr\n",
    "from sklearn.feature_selection import chi2\n",
    "from sklearn.preprocessing import Normalizer\n",
    "\n",
    "df_tot_1 = df_tot.drop('unknown1',axis=1)\n",
    "df_output = df_tot['unknown1'].apply(bool_attack)\n",
    "df_tot_dummies = pd.get_dummies(df_tot_1,columns = [\"protocol_type\",\"service\",\"flag\"])\n",
    "x_normalise = Normalizer().fit(df_tot_dummies)\n",
    "df_tot_dummies = x_normalise.transform(df_tot_dummies)\n",
    "x_new = SelectFpr(chi2, alpha=0.05).fit_transform(df_tot_dummies, df_output)"
   ]
  },
  {
   "cell_type": "code",
   "execution_count": null,
   "metadata": {
    "collapsed": false
   },
   "outputs": [],
   "source": []
  },
  {
   "cell_type": "code",
   "execution_count": 7,
   "metadata": {
    "collapsed": false
   },
   "outputs": [],
   "source": [
    "import pickle\n",
    "\n",
    "random_forest_clf = pickle.load(open('random_forest_test.sav', 'rb'))\n",
    "AdaBoost_clf = pickle.load(open('AdaBoost_test.sav', 'rb'))\n",
    "svc_clf = pickle.load(open('svc_test.sav', 'rb'))"
   ]
  },
  {
   "cell_type": "code",
   "execution_count": 8,
   "metadata": {
    "collapsed": true
   },
   "outputs": [],
   "source": [
    "X_train = x_new[:125000]\n",
    "y_train = df_output.iloc[:125000]\n",
    "X_test = x_new[125000:]\n",
    "y_test = df_output.iloc[125000:]"
   ]
  },
  {
   "cell_type": "code",
   "execution_count": 9,
   "metadata": {
    "collapsed": true
   },
   "outputs": [],
   "source": [
    "from sklearn.metrics import classification_report"
   ]
  },
  {
   "cell_type": "code",
   "execution_count": 10,
   "metadata": {
    "collapsed": false
   },
   "outputs": [],
   "source": [
    "def convert_bool(x):\n",
    "    if(x == \"attack\"):\n",
    "        return 1\n",
    "    else:\n",
    "        return 0\n",
    "    \n",
    "y_train = y_train.apply(convert_bool)"
   ]
  },
  {
   "cell_type": "code",
   "execution_count": 29,
   "metadata": {
    "collapsed": false
   },
   "outputs": [
    {
     "data": {
      "text/plain": [
       "pandas.core.series.Series"
      ]
     },
     "execution_count": 29,
     "metadata": {},
     "output_type": "execute_result"
    }
   ],
   "source": [
    "type(y_train)"
   ]
  },
  {
   "cell_type": "code",
   "execution_count": null,
   "metadata": {
    "collapsed": false
   },
   "outputs": [],
   "source": []
  },
  {
   "cell_type": "code",
   "execution_count": null,
   "metadata": {
    "collapsed": false
   },
   "outputs": [],
   "source": []
  },
  {
   "cell_type": "code",
   "execution_count": 11,
   "metadata": {
    "collapsed": false
   },
   "outputs": [],
   "source": [
    "rf_pred = random_forest_clf.predict(X_train)\n",
    "rf_conf = random_forest_clf.predict_proba(X_train)\n",
    "ada_pred = AdaBoost_clf.predict(X_train)\n",
    "ada_conf = AdaBoost_clf.predict_proba(X_train)\n",
    "svc_pred = svc_clf.predict(X_train)\n",
    "svc_conf = svc_clf.predict_proba(X_train)"
   ]
  },
  {
   "cell_type": "code",
   "execution_count": null,
   "metadata": {
    "collapsed": false
   },
   "outputs": [],
   "source": []
  },
  {
   "cell_type": "code",
   "execution_count": 12,
   "metadata": {
    "collapsed": false
   },
   "outputs": [],
   "source": [
    "conf_vec_list=[]\n",
    "clf_vec_list=[]\n",
    "state_vec_list=[]"
   ]
  },
  {
   "cell_type": "code",
   "execution_count": 13,
   "metadata": {
    "collapsed": true
   },
   "outputs": [],
   "source": [
    "for i in range(len(rf_pred)):\n",
    "    tmp1=[]\n",
    "    tmp1.append(convert_bool(rf_pred[i]))\n",
    "    tmp1.append(convert_bool(ada_pred[i]))\n",
    "    tmp1.append(convert_bool(svc_pred[i]))\n",
    "    clf_vec_list.append(tmp1)\n",
    "    state_vec_list.append(tmp1+list(x_new[i]))\n",
    "    \n",
    "    tmp1=[]\n",
    "    tmp1.append(rf_conf[i])\n",
    "    tmp1.append(ada_conf[i])\n",
    "    tmp1.append(svc_conf[i])\n",
    "    conf_vec_list.append(tmp1)"
   ]
  },
  {
   "cell_type": "code",
   "execution_count": 14,
   "metadata": {
    "collapsed": false
   },
   "outputs": [
    {
     "name": "stderr",
     "output_type": "stream",
     "text": [
      "Using TensorFlow backend.\n"
     ]
    }
   ],
   "source": [
    "from keras.models import Sequential\n",
    "from keras.layers import Dense\n",
    "import numpy as np\n",
    "# fix random seed for reproducibility\n",
    "np.random.seed(7)"
   ]
  },
  {
   "cell_type": "code",
   "execution_count": null,
   "metadata": {
    "collapsed": false
   },
   "outputs": [],
   "source": []
  },
  {
   "cell_type": "code",
   "execution_count": 48,
   "metadata": {
    "collapsed": false
   },
   "outputs": [
    {
     "data": {
      "text/plain": [
       "36"
      ]
     },
     "execution_count": 48,
     "metadata": {},
     "output_type": "execute_result"
    }
   ],
   "source": [
    "len(x_new[0])"
   ]
  },
  {
   "cell_type": "code",
   "execution_count": 15,
   "metadata": {
    "collapsed": true
   },
   "outputs": [],
   "source": [
    "# create model\n",
    "model = Sequential()\n",
    "model.add(Dense(100, input_dim=39, activation='relu'))\n",
    "model.add(Dense(100, activation='relu'))\n",
    "model.add(Dense(3, activation='sigmoid'))"
   ]
  },
  {
   "cell_type": "code",
   "execution_count": null,
   "metadata": {
    "collapsed": true
   },
   "outputs": [],
   "source": []
  },
  {
   "cell_type": "code",
   "execution_count": 21,
   "metadata": {
    "collapsed": false
   },
   "outputs": [
    {
     "data": {
      "text/plain": [
       "array([[ 0.52624005,  0.94977194,  0.9498325 ],\n",
       "       [ 0.52054763,  0.94958097,  0.9500668 ],\n",
       "       [ 0.56507987,  0.94988036,  0.94995481],\n",
       "       [ 0.52292168,  0.94981515,  0.94980353],\n",
       "       [ 0.53459072,  0.94930536,  0.94936877],\n",
       "       [ 0.56540352,  0.94961786,  0.94976634],\n",
       "       [ 0.56308681,  0.95012391,  0.95018131],\n",
       "       [ 0.56480825,  0.9499734 ,  0.95006561],\n",
       "       [ 0.56377184,  0.95024449,  0.95023865],\n",
       "       [ 0.56386727,  0.95014137,  0.95019698]], dtype=float32)"
      ]
     },
     "execution_count": 21,
     "metadata": {},
     "output_type": "execute_result"
    }
   ],
   "source": [
    "model.predict(np.array(state_vec_list[0:10]))"
   ]
  },
  {
   "cell_type": "code",
   "execution_count": null,
   "metadata": {
    "collapsed": true
   },
   "outputs": [],
   "source": []
  },
  {
   "cell_type": "code",
   "execution_count": 16,
   "metadata": {
    "collapsed": false
   },
   "outputs": [],
   "source": [
    "# Compile model\n",
    "model.compile(loss='mean_squared_error', optimizer='adam', metrics=['accuracy'])"
   ]
  },
  {
   "cell_type": "code",
   "execution_count": 17,
   "metadata": {
    "collapsed": true
   },
   "outputs": [],
   "source": [
    "input_list = []\n",
    "output_list = []"
   ]
  },
  {
   "cell_type": "code",
   "execution_count": 18,
   "metadata": {
    "collapsed": true
   },
   "outputs": [],
   "source": [
    "def get_rew(qval_v,y,conf_v,clf_v):\n",
    "    \n",
    "    act_qval=[]\n",
    "    \n",
    "    for j in range(3):\n",
    "        \n",
    "        if(y == clf_v[j]):\n",
    "            #print(qval_v[j])\n",
    "            #print(conf_v[j]/5)\n",
    "            tmp = qval_v[j] + conf_v[j][y]/5\n",
    "            \n",
    "            if(tmp>1):\n",
    "                tmp = 0.95\n",
    "\n",
    "            act_qval.append(tmp)\n",
    "        else:\n",
    "            tmp = qval_v[j] - conf_v[j][abs(1-y)]/5\n",
    "            if(tmp<0):\n",
    "                tmp = 0.05\n",
    "\n",
    "            act_qval.append(tmp)\n",
    "    \n",
    "    return act_qval"
   ]
  },
  {
   "cell_type": "code",
   "execution_count": null,
   "metadata": {
    "collapsed": false
   },
   "outputs": [],
   "source": []
  },
  {
   "cell_type": "code",
   "execution_count": 19,
   "metadata": {
    "collapsed": true
   },
   "outputs": [],
   "source": [
    "def get_batch(ind_list, input_list, output_list):\n",
    "    x=[]\n",
    "    y=[]\n",
    "    for item in ind_list:\n",
    "        x.append(input_list[item])\n",
    "        y.append(output_list[item])\n",
    "    \n",
    "    return x,y"
   ]
  },
  {
   "cell_type": "code",
   "execution_count": null,
   "metadata": {
    "collapsed": false
   },
   "outputs": [],
   "source": [
    "import random\n",
    "\n",
    "for i in range((int)(len(state_vec_list)/10)):\n",
    "    \n",
    "    print(\"itteration: \" + str(i))\n",
    "    input_list = input_list + state_vec_list[i*10:(i+1)*10]\n",
    "    Q_val_list = model.predict(np.array(state_vec_list[i*10:(i+1)*10]))\n",
    "    act_out_list = []\n",
    "    \n",
    "    for j in range(len(Q_val_list)):\n",
    "        #print(conf_vec_list[i*10+j])\n",
    "        act_out_list.append(get_rew(Q_val_list[j],y_train[i*10+j+1],conf_vec_list[i*10+j],clf_vec_list[i*10+j]))\n",
    "        \n",
    "    model.train_on_batch(np.array(state_vec_list[i*10:(i+1)*10]), np.array(act_out_list))\n",
    "    \n",
    "    output_list = output_list + act_out_list\n",
    "    #print(len(input_list))\n",
    "    #print(len(output_list))\n",
    "    for j in range(10):\n",
    "        ind_list = random.sample(range(0, len(input_list)), 10)\n",
    "        x, y = get_batch(ind_list, input_list, output_list)\n",
    "        \n",
    "        model.train_on_batch(np.array(x), np.array(y))"
   ]
  },
  {
   "cell_type": "code",
   "execution_count": null,
   "metadata": {
    "collapsed": true
   },
   "outputs": [],
   "source": []
  },
  {
   "cell_type": "code",
   "execution_count": null,
   "metadata": {
    "collapsed": false
   },
   "outputs": [],
   "source": [
    "# Fit the model\n",
    "model.fit(np.array(state_vec_list), np.array(y_train), epochs=30, batch_size=10)"
   ]
  },
  {
   "cell_type": "code",
   "execution_count": 23,
   "metadata": {
    "collapsed": true
   },
   "outputs": [],
   "source": [
    "rf_pred_ts = random_forest_clf.predict(X_test)\n",
    "ada_pred_ts = AdaBoost_clf.predict(X_test)\n",
    "svc_pred_ts = svc_clf.predict(X_test)"
   ]
  },
  {
   "cell_type": "code",
   "execution_count": 24,
   "metadata": {
    "collapsed": true
   },
   "outputs": [],
   "source": [
    "input_vec = []"
   ]
  },
  {
   "cell_type": "code",
   "execution_count": 25,
   "metadata": {
    "collapsed": false
   },
   "outputs": [],
   "source": [
    "for i in range(len(rf_pred_ts)):\n",
    "    tmp1=[]\n",
    "    tmp1.append(convert_bool(rf_pred_ts[i]))\n",
    "    tmp1.append(convert_bool(ada_pred_ts[i]))\n",
    "    tmp1.append(convert_bool(svc_pred_ts[i]))\n",
    "    input_vec.append(tmp1+list(X_test[i]))\n",
    "    \n",
    "y_test = y_test.apply(convert_bool)"
   ]
  },
  {
   "cell_type": "code",
   "execution_count": 38,
   "metadata": {
    "collapsed": false
   },
   "outputs": [
    {
     "data": {
      "text/plain": [
       "array(['attack', 'normal', 'attack', ..., 'attack', 'normal', 'attack'], dtype=object)"
      ]
     },
     "execution_count": 38,
     "metadata": {},
     "output_type": "execute_result"
    }
   ],
   "source": [
    "ada_pred_ts"
   ]
  },
  {
   "cell_type": "code",
   "execution_count": 26,
   "metadata": {
    "collapsed": true
   },
   "outputs": [],
   "source": [
    "y_pred = model.predict(np.array(input_vec))"
   ]
  },
  {
   "cell_type": "code",
   "execution_count": 39,
   "metadata": {
    "collapsed": false
   },
   "outputs": [
    {
     "name": "stdout",
     "output_type": "stream",
     "text": [
      "attack\n",
      "attack\n",
      "attack\n",
      "[ 0.56398749  0.95026147  0.95035213]\n"
     ]
    }
   ],
   "source": [
    "print(rf_pred_ts[0])\n",
    "print(ada_pred_ts[0])\n",
    "print(svc_pred_ts[0])\n",
    "print(y_pred[0])"
   ]
  },
  {
   "cell_type": "code",
   "execution_count": 65,
   "metadata": {
    "collapsed": true
   },
   "outputs": [],
   "source": [
    "y_pred_1=[]"
   ]
  },
  {
   "cell_type": "code",
   "execution_count": null,
   "metadata": {
    "collapsed": false
   },
   "outputs": [],
   "source": [
    "for k in range(len(y_pred)):\n",
    "    ac=0\n",
    "    nc=0\n",
    "    if(y_pred[k][0] > 0.5):\n",
    "        if(convert_bool(rf_pred_ts[k]) == 1):\n",
    "            ac = ac+1\n",
    "        else:\n",
    "            nc = nc+1\n",
    "    \n",
    "    if(y_pred[k][1] > 0.8):\n",
    "        if(convert_bool(ada_pred_ts[k]) == 1):\n",
    "            ac = ac+1\n",
    "        else:\n",
    "            nc = nc+1\n",
    "    \n",
    "    if(y_pred[k][2] > 0.8):\n",
    "        if(convert_bool(svc_pred_ts[k]) == 1):\n",
    "            ac = ac+1\n",
    "        else:\n",
    "            nc = nc+1\n",
    "    \n",
    "    print(ac-nc)\n",
    "    if(ac > nc):\n",
    "        print(\"attack\")\n",
    "        y_pred_1.append(1)\n",
    "    else:\n",
    "        print(\"norm\")\n",
    "        y_pred_1.append(0)"
   ]
  },
  {
   "cell_type": "code",
   "execution_count": null,
   "metadata": {
    "collapsed": true
   },
   "outputs": [],
   "source": []
  },
  {
   "cell_type": "code",
   "execution_count": 63,
   "metadata": {
    "collapsed": true
   },
   "outputs": [],
   "source": [
    "def perf_measure(y_actual, y_hat):\n",
    "    TP = 0\n",
    "    FP = 0\n",
    "    TN = 0\n",
    "    FN = 0\n",
    "\n",
    "    for i in range(len(y_hat)): \n",
    "        if y_actual[i]==y_hat[i]==1:\n",
    "           TP += 1\n",
    "        if y_hat[i]==1 and y_actual[i]!=y_hat[i]:\n",
    "           FP += 1\n",
    "        if y_actual[i]==y_hat[i]==0:\n",
    "           TN += 1\n",
    "        if y_hat[i]==0 and y_actual[i]!=y_hat[i]:\n",
    "           FN += 1\n",
    "\n",
    "    return(TP, FP, TN, FN)"
   ]
  },
  {
   "cell_type": "code",
   "execution_count": 69,
   "metadata": {
    "collapsed": true
   },
   "outputs": [],
   "source": [
    "def cal_fpr_acc(TP,FP,TN,FN):\n",
    "    acc = (TP+TN)/(TP+TN+FP+FN)\n",
    "    fpr = (FP)/(FP+TN)\n",
    "    \n",
    "    return fpr, acc"
   ]
  },
  {
   "cell_type": "code",
   "execution_count": 71,
   "metadata": {
    "collapsed": false
   },
   "outputs": [
    {
     "data": {
      "text/plain": [
       "(0.026164209704188226, 0.8107671372682429)"
      ]
     },
     "execution_count": 71,
     "metadata": {},
     "output_type": "execute_result"
    }
   ],
   "source": [
    "params = list(perf_measure(np.array(y_test),y_pred_1))\n",
    "cal_fpr_acc(params[0],params[1],params[2],params[3])"
   ]
  },
  {
   "cell_type": "code",
   "execution_count": 40,
   "metadata": {
    "collapsed": false
   },
   "outputs": [
    {
     "name": "stdout",
     "output_type": "stream",
     "text": [
      "23264/23516 [============================>.] - ETA: 0s\n",
      "acc: 81.07%\n"
     ]
    }
   ],
   "source": [
    "# evaluate the model\n",
    "scores = model.evaluate(np.array(input_vec), y_test)\n",
    "print(\"\\n%s: %.2f%%\" % (model.metrics_names[1], scores[1]*100))"
   ]
  },
  {
   "cell_type": "code",
   "execution_count": 41,
   "metadata": {
    "collapsed": false
   },
   "outputs": [],
   "source": [
    "from sklearn.metrics import confusion_matrix"
   ]
  },
  {
   "cell_type": "code",
   "execution_count": 47,
   "metadata": {
    "collapsed": false
   },
   "outputs": [],
   "source": [
    "y_pred = model.predict(np.array(input_vec))\n",
    "\n"
   ]
  },
  {
   "cell_type": "code",
   "execution_count": 49,
   "metadata": {
    "collapsed": false
   },
   "outputs": [
    {
     "data": {
      "text/plain": [
       "(7151, 232, 9348, 3642)"
      ]
     },
     "execution_count": 49,
     "metadata": {},
     "output_type": "execute_result"
    }
   ],
   "source": [
    "perf_measure(np.array(y_test),y_pred)"
   ]
  },
  {
   "cell_type": "code",
   "execution_count": 22,
   "metadata": {
    "collapsed": false
   },
   "outputs": [
    {
     "data": {
      "text/plain": [
       "array([[ 0.58925104,  0.94940388,  0.94942933],\n",
       "       [ 0.56969208,  0.94931269,  0.94956756],\n",
       "       [ 0.52008027,  0.94968128,  0.94975591],\n",
       "       [ 0.56361681,  0.95003319,  0.95029205],\n",
       "       [ 0.54490072,  0.94995046,  0.94972837],\n",
       "       [ 0.51979095,  0.94827014,  0.94873452],\n",
       "       [ 0.54613537,  0.95046735,  0.95027506],\n",
       "       [ 0.56381893,  0.95011669,  0.95015258],\n",
       "       [ 0.5239948 ,  0.94944054,  0.94952422],\n",
       "       [ 0.56291771,  0.95010185,  0.95014113],\n",
       "       [ 0.56979054,  0.94930077,  0.94955927],\n",
       "       [ 0.56214434,  0.9501701 ,  0.95020354],\n",
       "       [ 0.52084476,  0.94964552,  0.94996887],\n",
       "       [ 0.50787294,  0.94820678,  0.94853979],\n",
       "       [ 0.52398324,  0.94946116,  0.94959015],\n",
       "       [ 0.56421059,  0.95007795,  0.95017695],\n",
       "       [ 0.5739041 ,  0.95045245,  0.95057786],\n",
       "       [ 0.52979797,  0.94924563,  0.9493807 ],\n",
       "       [ 0.57302642,  0.11274257,  0.12911497],\n",
       "       [ 0.56214583,  0.95018411,  0.95022792]], dtype=float32)"
      ]
     },
     "execution_count": 22,
     "metadata": {},
     "output_type": "execute_result"
    }
   ],
   "source": [
    "model.predict(np.array(state_vec_list[30:50]))"
   ]
  },
  {
   "cell_type": "code",
   "execution_count": null,
   "metadata": {
    "collapsed": true
   },
   "outputs": [],
   "source": []
  }
 ],
 "metadata": {
  "anaconda-cloud": {},
  "kernelspec": {
   "display_name": "Python [conda root]",
   "language": "python",
   "name": "conda-root-py"
  },
  "language_info": {
   "codemirror_mode": {
    "name": "ipython",
    "version": 3
   },
   "file_extension": ".py",
   "mimetype": "text/x-python",
   "name": "python",
   "nbconvert_exporter": "python",
   "pygments_lexer": "ipython3",
   "version": "3.5.2"
  }
 },
 "nbformat": 4,
 "nbformat_minor": 1
}
