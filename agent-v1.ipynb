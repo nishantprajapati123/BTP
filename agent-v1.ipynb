{
 "cells": [
  {
   "cell_type": "code",
   "execution_count": 1,
   "metadata": {
    "collapsed": true
   },
   "outputs": [],
   "source": [
    "import pandas as pd"
   ]
  },
  {
   "cell_type": "code",
   "execution_count": 2,
   "metadata": {
    "collapsed": false
   },
   "outputs": [
    {
     "name": "stderr",
     "output_type": "stream",
     "text": [
      "C:\\Users\\Rupesh\\Anaconda3\\lib\\site-packages\\IPython\\core\\interactiveshell.py:2717: DtypeWarning: Columns (0,4,5,6,7,8,9,10,11,12,13,14,15,16,17,18,19,20,21,22,23,24,25,26,27,28,29,30,31,32,33,34,35,36,37,38,39,40,42) have mixed types. Specify dtype option on import or set low_memory=False.\n",
      "  interactivity=interactivity, compiler=compiler, result=result)\n"
     ]
    }
   ],
   "source": [
    "df = pd.DataFrame()\n",
    "df = pd.read_csv(\"train_proper_csv_attack_types.csv\",header = None)\n",
    "df = df.rename(columns=df.iloc[0])\n",
    "df = df.drop(df.index[0])\n",
    "df = df.drop('unknown2',axis=1)"
   ]
  },
  {
   "cell_type": "code",
   "execution_count": 3,
   "metadata": {
    "collapsed": false
   },
   "outputs": [
    {
     "name": "stderr",
     "output_type": "stream",
     "text": [
      "C:\\Users\\Rupesh\\Anaconda3\\lib\\site-packages\\IPython\\core\\interactiveshell.py:2717: DtypeWarning: Columns (0,4,5,6,7,8,9,10,11,12,13,14,15,16,17,18,19,20,21,22,23,24,25,26,27,28,29,30,31,32,33,34,35,36,37,38,39,40,42) have mixed types. Specify dtype option on import or set low_memory=False.\n",
      "  interactivity=interactivity, compiler=compiler, result=result)\n"
     ]
    }
   ],
   "source": [
    "df1 = pd.DataFrame()\n",
    "df1 = pd.read_csv(\"test_proper_csv_attack_types.csv\",header = None)\n",
    "df1 = df1.rename(columns=df1.iloc[0])\n",
    "df1 = df1.drop(df1.index[0])\n",
    "df1 = df1.drop('unknown2',axis=1)"
   ]
  },
  {
   "cell_type": "code",
   "execution_count": 4,
   "metadata": {
    "collapsed": true
   },
   "outputs": [],
   "source": [
    "df_tot = pd.concat([df,df1])"
   ]
  },
  {
   "cell_type": "code",
   "execution_count": 5,
   "metadata": {
    "collapsed": true
   },
   "outputs": [],
   "source": [
    "def bool_attack(x):\n",
    "    if(x != \"normal\"):\n",
    "        return \"attack\"\n",
    "    else:\n",
    "        return \"normal\""
   ]
  },
  {
   "cell_type": "code",
   "execution_count": 6,
   "metadata": {
    "collapsed": true
   },
   "outputs": [],
   "source": [
    "from sklearn.feature_selection import SelectFpr\n",
    "from sklearn.feature_selection import chi2\n",
    "from sklearn.preprocessing import Normalizer\n",
    "\n",
    "df_tot_1 = df_tot.drop('unknown1',axis=1)\n",
    "df_output = df_tot['unknown1'].apply(bool_attack)\n",
    "df_tot_dummies = pd.get_dummies(df_tot_1,columns = [\"protocol_type\",\"service\",\"flag\"])\n",
    "x_normalise = Normalizer().fit(df_tot_dummies)\n",
    "df_tot_dummies = x_normalise.transform(df_tot_dummies)\n",
    "x_new = SelectFpr(chi2, alpha=0.05).fit_transform(df_tot_dummies, df_output)"
   ]
  },
  {
   "cell_type": "code",
   "execution_count": null,
   "metadata": {
    "collapsed": false
   },
   "outputs": [],
   "source": []
  },
  {
   "cell_type": "code",
   "execution_count": 7,
   "metadata": {
    "collapsed": false
   },
   "outputs": [],
   "source": [
    "import pickle\n",
    "\n",
    "random_forest_clf = pickle.load(open('random_forest_test.sav', 'rb'))\n",
    "AdaBoost_clf = pickle.load(open('AdaBoost_test.sav', 'rb'))\n",
    "svc_clf = pickle.load(open('svc_test.sav', 'rb'))"
   ]
  },
  {
   "cell_type": "code",
   "execution_count": 26,
   "metadata": {
    "collapsed": true
   },
   "outputs": [],
   "source": [
    "X_train = x_new[:125000]\n",
    "y_train = df_output.iloc[:125000]\n",
    "X_test = x_new[125000:]\n",
    "y_test = df_output.iloc[125000:]"
   ]
  },
  {
   "cell_type": "code",
   "execution_count": 27,
   "metadata": {
    "collapsed": true
   },
   "outputs": [],
   "source": [
    "from sklearn.metrics import classification_report"
   ]
  },
  {
   "cell_type": "code",
   "execution_count": 28,
   "metadata": {
    "collapsed": false
   },
   "outputs": [],
   "source": [
    "def convert_bool(x):\n",
    "    if(x == \"attack\"):\n",
    "        return 1\n",
    "    else:\n",
    "        return 0\n",
    "    \n",
    "y_train = y_train.apply(convert_bool)"
   ]
  },
  {
   "cell_type": "code",
   "execution_count": 29,
   "metadata": {
    "collapsed": false
   },
   "outputs": [
    {
     "data": {
      "text/plain": [
       "pandas.core.series.Series"
      ]
     },
     "execution_count": 29,
     "metadata": {},
     "output_type": "execute_result"
    }
   ],
   "source": [
    "type(y_train)"
   ]
  },
  {
   "cell_type": "code",
   "execution_count": null,
   "metadata": {
    "collapsed": false
   },
   "outputs": [],
   "source": []
  },
  {
   "cell_type": "code",
   "execution_count": null,
   "metadata": {
    "collapsed": false
   },
   "outputs": [],
   "source": []
  },
  {
   "cell_type": "code",
   "execution_count": 30,
   "metadata": {
    "collapsed": false
   },
   "outputs": [],
   "source": [
    "rf_pred = random_forest_clf.predict(X_train)\n",
    "rf_conf = random_forest_clf.predict_proba(X_train)\n",
    "ada_pred = AdaBoost_clf.predict(X_train)\n",
    "ada_conf = AdaBoost_clf.predict_proba(X_train)\n",
    "svc_pred = svc_clf.predict(X_train)\n",
    "svc_conf = svc_clf.predict_proba(X_train)"
   ]
  },
  {
   "cell_type": "code",
   "execution_count": 31,
   "metadata": {
    "collapsed": false
   },
   "outputs": [],
   "source": [
    "conf_vec_list=[]\n",
    "clf_vec_list=[]\n",
    "state_vec_list=[]"
   ]
  },
  {
   "cell_type": "code",
   "execution_count": 32,
   "metadata": {
    "collapsed": true
   },
   "outputs": [],
   "source": [
    "for i in range(len(rf_pred)):\n",
    "    tmp1=[]\n",
    "    tmp1.append(convert_bool(rf_pred[i]))\n",
    "    tmp1.append(convert_bool(ada_pred[i]))\n",
    "    tmp1.append(convert_bool(svc_pred[i]))\n",
    "    clf_vec_list.append(tmp1)\n",
    "    state_vec_list.append(tmp1+list(x_new[i]))\n",
    "    \n",
    "    tmp1=[]\n",
    "    tmp1.append(rf_conf[i])\n",
    "    tmp1.append(ada_conf[i])\n",
    "    tmp1.append(svc_conf[i])\n",
    "    conf_vec_list.append(tmp1)"
   ]
  },
  {
   "cell_type": "code",
   "execution_count": 33,
   "metadata": {
    "collapsed": false
   },
   "outputs": [],
   "source": [
    "from keras.models import Sequential\n",
    "from keras.layers import Dense\n",
    "import numpy as np\n",
    "# fix random seed for reproducibility\n",
    "np.random.seed(7)"
   ]
  },
  {
   "cell_type": "code",
   "execution_count": null,
   "metadata": {
    "collapsed": true
   },
   "outputs": [],
   "source": []
  },
  {
   "cell_type": "code",
   "execution_count": 48,
   "metadata": {
    "collapsed": false
   },
   "outputs": [
    {
     "data": {
      "text/plain": [
       "36"
      ]
     },
     "execution_count": 48,
     "metadata": {},
     "output_type": "execute_result"
    }
   ],
   "source": [
    "len(x_new[0])"
   ]
  },
  {
   "cell_type": "code",
   "execution_count": 34,
   "metadata": {
    "collapsed": true
   },
   "outputs": [],
   "source": [
    "# create model\n",
    "model = Sequential()\n",
    "model.add(Dense(100, input_dim=39, activation='relu'))\n",
    "model.add(Dense(100, activation='relu'))\n",
    "model.add(Dense(1, activation='sigmoid'))"
   ]
  },
  {
   "cell_type": "code",
   "execution_count": 35,
   "metadata": {
    "collapsed": true
   },
   "outputs": [],
   "source": [
    "# Compile model\n",
    "model.compile(loss='binary_crossentropy', optimizer='adam', metrics=['accuracy'])"
   ]
  },
  {
   "cell_type": "code",
   "execution_count": 36,
   "metadata": {
    "collapsed": false
   },
   "outputs": [
    {
     "name": "stdout",
     "output_type": "stream",
     "text": [
      "Epoch 1/30\n",
      "125000/125000 [==============================] - 33s - loss: 0.0036 - acc: 0.9995    \n",
      "Epoch 2/30\n",
      "125000/125000 [==============================] - 22s - loss: 0.0018 - acc: 0.9998    \n",
      "Epoch 3/30\n",
      "125000/125000 [==============================] - 20s - loss: 0.0020 - acc: 0.9998    \n",
      "Epoch 4/30\n",
      "125000/125000 [==============================] - 22s - loss: 0.0018 - acc: 0.9998    \n",
      "Epoch 5/30\n",
      "125000/125000 [==============================] - 23s - loss: 0.0018 - acc: 0.9998    \n",
      "Epoch 6/30\n",
      "125000/125000 [==============================] - 22s - loss: 0.0020 - acc: 0.9998    \n",
      "Epoch 7/30\n",
      "125000/125000 [==============================] - 23s - loss: 0.0019 - acc: 0.9998    \n",
      "Epoch 8/30\n",
      "125000/125000 [==============================] - 22s - loss: 0.0021 - acc: 0.9998    \n",
      "Epoch 9/30\n",
      "125000/125000 [==============================] - 22s - loss: 0.0020 - acc: 0.9998    \n",
      "Epoch 10/30\n",
      "125000/125000 [==============================] - 21s - loss: 0.0019 - acc: 0.9998    \n",
      "Epoch 11/30\n",
      "125000/125000 [==============================] - 23s - loss: 0.0020 - acc: 0.9998    \n",
      "Epoch 12/30\n",
      "125000/125000 [==============================] - 21s - loss: 0.0021 - acc: 0.9998    \n",
      "Epoch 13/30\n",
      "125000/125000 [==============================] - 22s - loss: 0.0019 - acc: 0.9998    \n",
      "Epoch 14/30\n",
      "125000/125000 [==============================] - 21s - loss: 0.0020 - acc: 0.9998    \n",
      "Epoch 15/30\n",
      "125000/125000 [==============================] - 21s - loss: 0.0021 - acc: 0.9998    \n",
      "Epoch 16/30\n",
      "125000/125000 [==============================] - 22s - loss: 0.0021 - acc: 0.9998    \n",
      "Epoch 17/30\n",
      "125000/125000 [==============================] - 23s - loss: 0.0019 - acc: 0.9998    \n",
      "Epoch 18/30\n",
      "125000/125000 [==============================] - 21s - loss: 0.0019 - acc: 0.9998    \n",
      "Epoch 19/30\n",
      "125000/125000 [==============================] - 22s - loss: 0.0020 - acc: 0.9998    \n",
      "Epoch 20/30\n",
      "125000/125000 [==============================] - 25s - loss: 0.0020 - acc: 0.9998    \n",
      "Epoch 21/30\n",
      "125000/125000 [==============================] - 26s - loss: 0.0019 - acc: 0.9998    \n",
      "Epoch 22/30\n",
      "125000/125000 [==============================] - 25s - loss: 0.0020 - acc: 0.9998    \n",
      "Epoch 23/30\n",
      "125000/125000 [==============================] - 24s - loss: 0.0020 - acc: 0.9998    \n",
      "Epoch 24/30\n",
      "125000/125000 [==============================] - 24s - loss: 0.0020 - acc: 0.9998    \n",
      "Epoch 25/30\n",
      "125000/125000 [==============================] - 24s - loss: 0.0020 - acc: 0.9998    \n",
      "Epoch 26/30\n",
      "125000/125000 [==============================] - 25s - loss: 0.0019 - acc: 0.9998    \n",
      "Epoch 27/30\n",
      "125000/125000 [==============================] - 24s - loss: 0.0018 - acc: 0.9998    \n",
      "Epoch 28/30\n",
      "125000/125000 [==============================] - 28s - loss: 0.0021 - acc: 0.9998    \n",
      "Epoch 29/30\n",
      "125000/125000 [==============================] - 29s - loss: 0.0019 - acc: 0.9998    \n",
      "Epoch 30/30\n",
      "125000/125000 [==============================] - 26s - loss: 0.0019 - acc: 0.9998    \n"
     ]
    },
    {
     "data": {
      "text/plain": [
       "<keras.callbacks.History at 0x18d564aee10>"
      ]
     },
     "execution_count": 36,
     "metadata": {},
     "output_type": "execute_result"
    }
   ],
   "source": [
    "# Fit the model\n",
    "model.fit(np.array(state_vec_list), np.array(y_train), epochs=30, batch_size=10)"
   ]
  },
  {
   "cell_type": "code",
   "execution_count": 37,
   "metadata": {
    "collapsed": true
   },
   "outputs": [],
   "source": [
    "rf_pred_ts = random_forest_clf.predict(X_test)\n",
    "ada_pred_ts = AdaBoost_clf.predict(X_test)\n",
    "svc_pred_ts = svc_clf.predict(X_test)"
   ]
  },
  {
   "cell_type": "code",
   "execution_count": 38,
   "metadata": {
    "collapsed": true
   },
   "outputs": [],
   "source": [
    "input_vec = []"
   ]
  },
  {
   "cell_type": "code",
   "execution_count": 39,
   "metadata": {
    "collapsed": false
   },
   "outputs": [],
   "source": [
    "for i in range(len(rf_pred_ts)):\n",
    "    tmp1=[]\n",
    "    tmp1.append(convert_bool(rf_pred_ts[i]))\n",
    "    tmp1.append(convert_bool(ada_pred_ts[i]))\n",
    "    tmp1.append(convert_bool(svc_pred_ts[i]))\n",
    "    input_vec.append(tmp1+list(X_test[i]))\n",
    "    \n",
    "y_test = y_test.apply(convert_bool)"
   ]
  },
  {
   "cell_type": "code",
   "execution_count": 40,
   "metadata": {
    "collapsed": false
   },
   "outputs": [
    {
     "name": "stdout",
     "output_type": "stream",
     "text": [
      "23264/23516 [============================>.] - ETA: 0s\n",
      "acc: 81.07%\n"
     ]
    }
   ],
   "source": [
    "# evaluate the model\n",
    "scores = model.evaluate(np.array(input_vec), y_test)\n",
    "print(\"\\n%s: %.2f%%\" % (model.metrics_names[1], scores[1]*100))"
   ]
  },
  {
   "cell_type": "code",
   "execution_count": 41,
   "metadata": {
    "collapsed": false
   },
   "outputs": [],
   "source": [
    "from sklearn.metrics import confusion_matrix"
   ]
  },
  {
   "cell_type": "code",
   "execution_count": 47,
   "metadata": {
    "collapsed": false
   },
   "outputs": [],
   "source": [
    "y_pred = model.predict(np.array(input_vec))\n",
    "\n",
    "def perf_measure(y_actual, y_hat):\n",
    "    TP = 0\n",
    "    FP = 0\n",
    "    TN = 0\n",
    "    FN = 0\n",
    "\n",
    "    for i in range(len(y_hat)): \n",
    "        if y_actual[i]==y_hat[i]==1:\n",
    "           TP += 1\n",
    "        if y_hat[i]==1 and y_actual[i]!=y_hat[i]:\n",
    "           FP += 1\n",
    "        if y_actual[i]==y_hat[i]==0:\n",
    "           TN += 1\n",
    "        if y_hat[i]==0 and y_actual[i]!=y_hat[i]:\n",
    "           FN += 1\n",
    "\n",
    "    return(TP, FP, TN, FN)"
   ]
  },
  {
   "cell_type": "code",
   "execution_count": 49,
   "metadata": {
    "collapsed": false
   },
   "outputs": [
    {
     "data": {
      "text/plain": [
       "(7151, 232, 9348, 3642)"
      ]
     },
     "execution_count": 49,
     "metadata": {},
     "output_type": "execute_result"
    }
   ],
   "source": [
    "perf_measure(np.array(y_test),y_pred)"
   ]
  },
  {
   "cell_type": "code",
   "execution_count": null,
   "metadata": {
    "collapsed": true
   },
   "outputs": [],
   "source": []
  }
 ],
 "metadata": {
  "anaconda-cloud": {},
  "kernelspec": {
   "display_name": "Python [conda root]",
   "language": "python",
   "name": "conda-root-py"
  },
  "language_info": {
   "codemirror_mode": {
    "name": "ipython",
    "version": 3
   },
   "file_extension": ".py",
   "mimetype": "text/x-python",
   "name": "python",
   "nbconvert_exporter": "python",
   "pygments_lexer": "ipython3",
   "version": "3.5.2"
  }
 },
 "nbformat": 4,
 "nbformat_minor": 1
}
