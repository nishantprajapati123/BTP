{
 "cells": [
  {
   "cell_type": "code",
   "execution_count": 1,
   "metadata": {
    "collapsed": true
   },
   "outputs": [],
   "source": [
    "import pandas as pd"
   ]
  },
  {
   "cell_type": "code",
   "execution_count": 2,
   "metadata": {
    "collapsed": false
   },
   "outputs": [
    {
     "name": "stderr",
     "output_type": "stream",
     "text": [
      "C:\\Users\\Rupesh\\Anaconda3\\lib\\site-packages\\IPython\\core\\interactiveshell.py:2717: DtypeWarning: Columns (0,4,5,6,7,8,9,10,11,12,13,14,15,16,17,18,19,20,21,22,23,24,25,26,27,28,29,30,31,32,33,34,35,36,37,38,39,40,42) have mixed types. Specify dtype option on import or set low_memory=False.\n",
      "  interactivity=interactivity, compiler=compiler, result=result)\n"
     ]
    }
   ],
   "source": [
    "df = pd.DataFrame()\n",
    "df = pd.read_csv(\"train_proper_csv_attack_types.csv\",header = None)\n",
    "df = df.rename(columns=df.iloc[0])\n",
    "df = df.drop(df.index[0])\n",
    "df = df.drop('unknown2',axis=1)"
   ]
  },
  {
   "cell_type": "code",
   "execution_count": 3,
   "metadata": {
    "collapsed": false
   },
   "outputs": [
    {
     "name": "stderr",
     "output_type": "stream",
     "text": [
      "C:\\Users\\Rupesh\\Anaconda3\\lib\\site-packages\\IPython\\core\\interactiveshell.py:2717: DtypeWarning: Columns (0,4,5,6,7,8,9,10,11,12,13,14,15,16,17,18,19,20,21,22,23,24,25,26,27,28,29,30,31,32,33,34,35,36,37,38,39,40,42) have mixed types. Specify dtype option on import or set low_memory=False.\n",
      "  interactivity=interactivity, compiler=compiler, result=result)\n"
     ]
    }
   ],
   "source": [
    "df1 = pd.DataFrame()\n",
    "df1 = pd.read_csv(\"test_proper_csv_attack_types.csv\",header = None)\n",
    "df1 = df1.rename(columns=df1.iloc[0])\n",
    "df1 = df1.drop(df1.index[0])\n",
    "df1 = df1.drop('unknown2',axis=1)"
   ]
  },
  {
   "cell_type": "code",
   "execution_count": 4,
   "metadata": {
    "collapsed": true
   },
   "outputs": [],
   "source": [
    "df_tot = pd.concat([df,df1])"
   ]
  },
  {
   "cell_type": "code",
   "execution_count": 5,
   "metadata": {
    "collapsed": true
   },
   "outputs": [],
   "source": [
    "def bool_attack(x):\n",
    "    if(x != \"normal\"):\n",
    "        return \"attack\"\n",
    "    else:\n",
    "        return \"normal\""
   ]
  },
  {
   "cell_type": "code",
   "execution_count": 6,
   "metadata": {
    "collapsed": true
   },
   "outputs": [],
   "source": [
    "from sklearn.feature_selection import SelectFpr\n",
    "from sklearn.feature_selection import chi2\n",
    "from sklearn.preprocessing import Normalizer\n",
    "\n",
    "df_tot_1 = df_tot.drop('unknown1',axis=1)\n",
    "df_output = df_tot['unknown1'].apply(bool_attack)\n",
    "df_tot_dummies = pd.get_dummies(df_tot_1,columns = [\"protocol_type\",\"service\",\"flag\"])\n",
    "x_normalise = Normalizer().fit(df_tot_dummies)\n",
    "df_tot_dummies = x_normalise.transform(df_tot_dummies)\n",
    "x_new = SelectFpr(chi2, alpha=0.05).fit_transform(df_tot_dummies, df_output)"
   ]
  },
  {
   "cell_type": "code",
   "execution_count": null,
   "metadata": {
    "collapsed": false
   },
   "outputs": [],
   "source": []
  },
  {
   "cell_type": "code",
   "execution_count": 8,
   "metadata": {
    "collapsed": false
   },
   "outputs": [],
   "source": [
    "import pickle\n",
    "\n",
    "random_forest_clf = pickle.load(open('random_forest_test.sav', 'rb'))\n",
    "AdaBoost_clf = pickle.load(open('AdaBoost_test.sav', 'rb'))\n",
    "gnb_clf = pickle.load(open('gaussianNB_test.sav', 'rb'))"
   ]
  },
  {
   "cell_type": "code",
   "execution_count": 9,
   "metadata": {
    "collapsed": true
   },
   "outputs": [],
   "source": [
    "X_train = x_new[:125000]\n",
    "y_train = df_output.iloc[:125000]\n",
    "X_test = x_new[125000:]\n",
    "y_test = df_output.iloc[125000:]"
   ]
  },
  {
   "cell_type": "code",
   "execution_count": 10,
   "metadata": {
    "collapsed": true
   },
   "outputs": [],
   "source": [
    "from sklearn.metrics import classification_report"
   ]
  },
  {
   "cell_type": "code",
   "execution_count": 11,
   "metadata": {
    "collapsed": false
   },
   "outputs": [],
   "source": [
    "def convert_bool(x):\n",
    "    if(x == \"attack\"):\n",
    "        return 1\n",
    "    else:\n",
    "        return 0\n",
    "    \n",
    "y_train = y_train.apply(convert_bool)"
   ]
  },
  {
   "cell_type": "code",
   "execution_count": null,
   "metadata": {
    "collapsed": false
   },
   "outputs": [],
   "source": []
  },
  {
   "cell_type": "code",
   "execution_count": 12,
   "metadata": {
    "collapsed": false
   },
   "outputs": [],
   "source": [
    "rf_pred = random_forest_clf.predict(X_train)\n",
    "rf_conf = random_forest_clf.predict_proba(X_train)\n",
    "ada_pred = AdaBoost_clf.predict(X_train)\n",
    "ada_conf = AdaBoost_clf.predict_proba(X_train)\n",
    "gnb_pred = gnb_clf.predict(X_train)\n",
    "gnb_conf = gnb_clf.predict_proba(X_train)"
   ]
  },
  {
   "cell_type": "code",
   "execution_count": 13,
   "metadata": {
    "collapsed": false
   },
   "outputs": [],
   "source": [
    "conf_vec_list=[]\n",
    "clf_vec_list=[]\n",
    "state_vec_list=[]"
   ]
  },
  {
   "cell_type": "code",
   "execution_count": 14,
   "metadata": {
    "collapsed": true
   },
   "outputs": [],
   "source": [
    "for i in range(len(rf_pred)):\n",
    "    tmp1=[]\n",
    "    tmp1.append(convert_bool(rf_pred[i]))\n",
    "    tmp1.append(convert_bool(ada_pred[i]))\n",
    "    tmp1.append(convert_bool(gnb_pred[i]))\n",
    "    clf_vec_list.append(tmp1)\n",
    "    state_vec_list.append(tmp1+list(x_new[i]))\n",
    "    \n",
    "    tmp1=[]\n",
    "    tmp1.append(rf_conf[i])\n",
    "    tmp1.append(ada_conf[i])\n",
    "    tmp1.append(gnb_conf[i])\n",
    "    conf_vec_list.append(tmp1)"
   ]
  },
  {
   "cell_type": "code",
   "execution_count": 15,
   "metadata": {
    "collapsed": false
   },
   "outputs": [
    {
     "name": "stderr",
     "output_type": "stream",
     "text": [
      "Using TensorFlow backend.\n"
     ]
    }
   ],
   "source": [
    "from keras.models import Sequential\n",
    "from keras.layers import Dense\n",
    "import numpy as np\n",
    "# fix random seed for reproducibility\n",
    "np.random.seed(7)"
   ]
  },
  {
   "cell_type": "code",
   "execution_count": null,
   "metadata": {
    "collapsed": true
   },
   "outputs": [],
   "source": []
  },
  {
   "cell_type": "code",
   "execution_count": 48,
   "metadata": {
    "collapsed": false
   },
   "outputs": [
    {
     "data": {
      "text/plain": [
       "36"
      ]
     },
     "execution_count": 48,
     "metadata": {},
     "output_type": "execute_result"
    }
   ],
   "source": [
    "len(x_new[0])"
   ]
  },
  {
   "cell_type": "code",
   "execution_count": 16,
   "metadata": {
    "collapsed": true
   },
   "outputs": [],
   "source": [
    "# create model\n",
    "model = Sequential()\n",
    "model.add(Dense(50, input_dim=39, activation='relu'))\n",
    "model.add(Dense(50, activation='relu'))\n",
    "model.add(Dense(1, activation='sigmoid'))"
   ]
  },
  {
   "cell_type": "code",
   "execution_count": 17,
   "metadata": {
    "collapsed": true
   },
   "outputs": [],
   "source": [
    "# Compile model\n",
    "model.compile(loss='binary_crossentropy', optimizer='adam', metrics=['accuracy'])"
   ]
  },
  {
   "cell_type": "code",
   "execution_count": 18,
   "metadata": {
    "collapsed": false
   },
   "outputs": [
    {
     "name": "stdout",
     "output_type": "stream",
     "text": [
      "Epoch 1/50\n",
      "125000/125000 [==============================] - 24s - loss: 0.0047 - acc: 0.9994    \n",
      "Epoch 2/50\n",
      "125000/125000 [==============================] - 24s - loss: 0.0016 - acc: 0.9998    \n",
      "Epoch 3/50\n",
      "125000/125000 [==============================] - 23s - loss: 0.0017 - acc: 0.9998    \n",
      "Epoch 4/50\n",
      "125000/125000 [==============================] - 23s - loss: 0.0016 - acc: 0.9998    \n",
      "Epoch 5/50\n",
      "125000/125000 [==============================] - 22s - loss: 0.0015 - acc: 0.9998    \n",
      "Epoch 6/50\n",
      "125000/125000 [==============================] - 23s - loss: 0.0015 - acc: 0.9998    \n",
      "Epoch 7/50\n",
      "125000/125000 [==============================] - 23s - loss: 0.0014 - acc: 0.9998    \n",
      "Epoch 8/50\n",
      "125000/125000 [==============================] - 23s - loss: 0.0016 - acc: 0.9998    \n",
      "Epoch 9/50\n",
      "125000/125000 [==============================] - 23s - loss: 0.0016 - acc: 0.9998    \n",
      "Epoch 10/50\n",
      "125000/125000 [==============================] - 23s - loss: 0.0015 - acc: 0.9998    \n",
      "Epoch 11/50\n",
      "125000/125000 [==============================] - 35s - loss: 0.0017 - acc: 0.9998    \n",
      "Epoch 12/50\n",
      "125000/125000 [==============================] - 26s - loss: 0.0016 - acc: 0.9998    \n",
      "Epoch 13/50\n",
      "125000/125000 [==============================] - 25s - loss: 0.0015 - acc: 0.9998    \n",
      "Epoch 14/50\n",
      "125000/125000 [==============================] - 25s - loss: 0.0017 - acc: 0.9998    \n",
      "Epoch 15/50\n",
      "125000/125000 [==============================] - 24s - loss: 0.0017 - acc: 0.9998    \n",
      "Epoch 16/50\n",
      "125000/125000 [==============================] - 25s - loss: 0.0017 - acc: 0.9998    \n",
      "Epoch 17/50\n",
      "125000/125000 [==============================] - 24s - loss: 0.0017 - acc: 0.9998    \n",
      "Epoch 18/50\n",
      "125000/125000 [==============================] - 25s - loss: 0.0017 - acc: 0.9998    \n",
      "Epoch 19/50\n",
      "125000/125000 [==============================] - 24s - loss: 0.0019 - acc: 0.9998    \n",
      "Epoch 20/50\n",
      "125000/125000 [==============================] - 25s - loss: 0.0017 - acc: 0.9998    \n",
      "Epoch 21/50\n",
      "125000/125000 [==============================] - 28s - loss: 0.0018 - acc: 0.9998    \n",
      "Epoch 22/50\n",
      "125000/125000 [==============================] - 36s - loss: 0.0018 - acc: 0.9998    \n",
      "Epoch 23/50\n",
      "125000/125000 [==============================] - 35s - loss: 0.0018 - acc: 0.9998    \n",
      "Epoch 24/50\n",
      "125000/125000 [==============================] - 36s - loss: 0.0018 - acc: 0.9998    \n",
      "Epoch 25/50\n",
      "125000/125000 [==============================] - 35s - loss: 0.0019 - acc: 0.9998    \n",
      "Epoch 26/50\n",
      "125000/125000 [==============================] - 36s - loss: 0.0019 - acc: 0.9998    \n",
      "Epoch 27/50\n",
      "125000/125000 [==============================] - 36s - loss: 0.0019 - acc: 0.9998    \n",
      "Epoch 28/50\n",
      "125000/125000 [==============================] - 32s - loss: 0.0019 - acc: 0.9998    \n",
      "Epoch 29/50\n",
      "125000/125000 [==============================] - 28s - loss: 0.0019 - acc: 0.9998    \n",
      "Epoch 30/50\n",
      "125000/125000 [==============================] - 22s - loss: 0.0020 - acc: 0.9998    \n",
      "Epoch 31/50\n",
      "125000/125000 [==============================] - 21s - loss: 0.0018 - acc: 0.9998    \n",
      "Epoch 32/50\n",
      "125000/125000 [==============================] - 20s - loss: 0.0018 - acc: 0.9998    \n",
      "Epoch 33/50\n",
      "125000/125000 [==============================] - 20s - loss: 0.0018 - acc: 0.9998    \n",
      "Epoch 34/50\n",
      "125000/125000 [==============================] - 20s - loss: 0.0019 - acc: 0.9998    \n",
      "Epoch 35/50\n",
      "125000/125000 [==============================] - 21s - loss: 0.0019 - acc: 0.9998    \n",
      "Epoch 36/50\n",
      "125000/125000 [==============================] - 23s - loss: 0.0019 - acc: 0.9998    \n",
      "Epoch 37/50\n",
      "125000/125000 [==============================] - 22s - loss: 0.0019 - acc: 0.9998    \n",
      "Epoch 38/50\n",
      "125000/125000 [==============================] - 21s - loss: 0.0019 - acc: 0.9998    \n",
      "Epoch 39/50\n",
      "125000/125000 [==============================] - 23s - loss: 0.0019 - acc: 0.9998    \n",
      "Epoch 40/50\n",
      "125000/125000 [==============================] - 26s - loss: 0.0019 - acc: 0.9998    \n",
      "Epoch 41/50\n",
      "125000/125000 [==============================] - 30s - loss: 0.0018 - acc: 0.9998    \n",
      "Epoch 42/50\n",
      "125000/125000 [==============================] - 31s - loss: 0.0018 - acc: 0.9998    \n",
      "Epoch 43/50\n",
      "125000/125000 [==============================] - 26s - loss: 0.0019 - acc: 0.9998    \n",
      "Epoch 44/50\n",
      "125000/125000 [==============================] - 26s - loss: 0.0019 - acc: 0.9998    \n",
      "Epoch 45/50\n",
      "125000/125000 [==============================] - 28s - loss: 0.0018 - acc: 0.9998    \n",
      "Epoch 46/50\n",
      "125000/125000 [==============================] - 27s - loss: 0.0018 - acc: 0.9998    \n",
      "Epoch 47/50\n",
      "125000/125000 [==============================] - 28s - loss: 0.0019 - acc: 0.9998    \n",
      "Epoch 48/50\n",
      "125000/125000 [==============================] - 22s - loss: 0.0018 - acc: 0.9998    \n",
      "Epoch 49/50\n",
      "125000/125000 [==============================] - 20s - loss: 0.0019 - acc: 0.9998    \n",
      "Epoch 50/50\n",
      "125000/125000 [==============================] - 20s - loss: 0.0018 - acc: 0.9998    \n"
     ]
    },
    {
     "data": {
      "text/plain": [
       "<keras.callbacks.History at 0x1d2145167f0>"
      ]
     },
     "execution_count": 18,
     "metadata": {},
     "output_type": "execute_result"
    }
   ],
   "source": [
    "# Fit the model\n",
    "model.fit(np.array(state_vec_list), y_train, epochs=50, batch_size=10)"
   ]
  },
  {
   "cell_type": "code",
   "execution_count": 19,
   "metadata": {
    "collapsed": true
   },
   "outputs": [],
   "source": [
    "rf_pred_ts = random_forest_clf.predict(X_test)\n",
    "ada_pred_ts = AdaBoost_clf.predict(X_test)\n",
    "gnb_pred_ts = gnb_clf.predict(X_test)"
   ]
  },
  {
   "cell_type": "code",
   "execution_count": 20,
   "metadata": {
    "collapsed": true
   },
   "outputs": [],
   "source": [
    "input_vec = []"
   ]
  },
  {
   "cell_type": "code",
   "execution_count": 21,
   "metadata": {
    "collapsed": false
   },
   "outputs": [],
   "source": [
    "for i in range(len(rf_pred_ts)):\n",
    "    tmp1=[]\n",
    "    tmp1.append(convert_bool(rf_pred_ts[i]))\n",
    "    tmp1.append(convert_bool(ada_pred_ts[i]))\n",
    "    tmp1.append(convert_bool(gnb_pred_ts[i]))\n",
    "    input_vec.append(tmp1+list(X_test[i]))\n",
    "    \n",
    "y_test = y_test.apply(convert_bool)"
   ]
  },
  {
   "cell_type": "code",
   "execution_count": 22,
   "metadata": {
    "collapsed": false
   },
   "outputs": [
    {
     "name": "stdout",
     "output_type": "stream",
     "text": [
      "22720/23516 [===========================>..] - ETA: 0s\n",
      "acc: 81.08%\n"
     ]
    }
   ],
   "source": [
    "# evaluate the model\n",
    "scores = model.evaluate(np.array(input_vec), y_test)\n",
    "print(\"\\n%s: %.2f%%\" % (model.metrics_names[1], scores[1]*100))"
   ]
  },
  {
   "cell_type": "code",
   "execution_count": null,
   "metadata": {
    "collapsed": false
   },
   "outputs": [],
   "source": []
  },
  {
   "cell_type": "code",
   "execution_count": null,
   "metadata": {
    "collapsed": true
   },
   "outputs": [],
   "source": []
  }
 ],
 "metadata": {
  "anaconda-cloud": {},
  "kernelspec": {
   "display_name": "Python [conda root]",
   "language": "python",
   "name": "conda-root-py"
  },
  "language_info": {
   "codemirror_mode": {
    "name": "ipython",
    "version": 3
   },
   "file_extension": ".py",
   "mimetype": "text/x-python",
   "name": "python",
   "nbconvert_exporter": "python",
   "pygments_lexer": "ipython3",
   "version": "3.5.2"
  }
 },
 "nbformat": 4,
 "nbformat_minor": 1
}
